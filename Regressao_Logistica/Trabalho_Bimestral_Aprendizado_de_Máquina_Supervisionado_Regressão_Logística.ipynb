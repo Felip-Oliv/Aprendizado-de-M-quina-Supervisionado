{
  "nbformat": 4,
  "nbformat_minor": 0,
  "metadata": {
    "colab": {
      "provenance": [],
      "collapsed_sections": [
        "JZEMFsTBDlL3",
        "h4yfDq3NFBav",
        "-Conc4JPFEW-"
      ]
    },
    "kernelspec": {
      "name": "python3",
      "display_name": "Python 3"
    },
    "language_info": {
      "name": "python"
    }
  },
  "cells": [
    {
      "cell_type": "markdown",
      "source": [
        "# **Trabalho Bimestral - Aprendizado de Máquina Supervisionado -Regressão Logística**\n",
        "\n",
        "Link do Repositório:\n",
        "\n",
        "Link do Dataset:\n",
        "\n",
        "https://drive.google.com/drive/folders/1YYVxSOkcks3aqUbO1K5wiPsoN6lJJCe-?usp=share_link\n",
        "\n",
        "Link do Dicionário de Dados:\n",
        "\n",
        "https://www.kaggle.com/datasets/uciml/student-alcohol-consumption?resource=download\n",
        "\n",
        "Integrantes:\n",
        "\n",
        "Aramis Chang Chain, RGM: 8813440250\n",
        "\n",
        "Luiz Felipe, RGM: 8813216082\n",
        "\n",
        "Instituição: Universidade Positivo\n",
        "\n",
        "Curso: Sistemas de Informação\n",
        "\n",
        "Matéria: Data Science\n",
        "\n",
        "Turma: BSI - Quarta\n",
        "\n",
        "Professora: https://github.com/marycamila184"
      ],
      "metadata": {
        "id": "XLVhlL66DgVB"
      }
    },
    {
      "cell_type": "markdown",
      "source": [
        "Este projeto tem por objetivo desenvolver um algoritmo de Machine Learning para prever a intensidade de bebida alcoólica consumida nos finais de semana pelos estudantes de matemática dos colégios Gabriel Pereira e Mousinho da Silveira"
      ],
      "metadata": {
        "id": "-9GMQWfQDiV_"
      }
    },
    {
      "cell_type": "markdown",
      "source": [
        "Os dados foram extraídos do site do Kaggle:\n",
        "\n",
        "https://www.kaggle.com/datasets/uciml/student-alcohol-consumption?resource=download"
      ],
      "metadata": {
        "id": "ywOpfEh0DjnZ"
      }
    },
    {
      "cell_type": "markdown",
      "source": [
        "# **PRÉ-PROCESSAMENTO**"
      ],
      "metadata": {
        "id": "JZEMFsTBDlL3"
      }
    },
    {
      "cell_type": "code",
      "execution_count": null,
      "metadata": {
        "id": "XlhPVn1vDb0m"
      },
      "outputs": [],
      "source": [
        "import numpy as np\n",
        "import pandas as pd"
      ]
    },
    {
      "cell_type": "code",
      "source": [
        "from google.colab import drive\n",
        "drive.mount('/content/drive')"
      ],
      "metadata": {
        "colab": {
          "base_uri": "https://localhost:8080/"
        },
        "id": "ECtls6XGD5G_",
        "outputId": "c1264231-3f19-4676-929b-dd0df4712421"
      },
      "execution_count": null,
      "outputs": [
        {
          "output_type": "stream",
          "name": "stdout",
          "text": [
            "Mounted at /content/drive\n"
          ]
        }
      ]
    },
    {
      "cell_type": "code",
      "source": [
        "import warnings\n",
        "warnings.filterwarnings(\"ignore\")"
      ],
      "metadata": {
        "id": "RloFWFumD59H"
      },
      "execution_count": null,
      "outputs": []
    },
    {
      "cell_type": "code",
      "source": [
        "df = pd.read_csv('/content/drive/MyDrive/student-mat.csv',\n",
        "                  sep=',', encoding='latin-1')"
      ],
      "metadata": {
        "id": "RTTluwDvD6yH"
      },
      "execution_count": null,
      "outputs": []
    },
    {
      "cell_type": "code",
      "source": [
        "df.head()"
      ],
      "metadata": {
        "colab": {
          "base_uri": "https://localhost:8080/",
          "height": 236
        },
        "id": "jLu_1yYYD70A",
        "outputId": "6345e84f-040c-49bf-d628-a99bccf584d6"
      },
      "execution_count": null,
      "outputs": [
        {
          "output_type": "execute_result",
          "data": {
            "text/plain": [
              "  school sex  age address famsize Pstatus  Medu  Fedu     Mjob      Fjob  ...  \\\n",
              "0     GP   F   18       U     GT3       A     4     4  at_home   teacher  ...   \n",
              "1     GP   F   17       U     GT3       T     1     1  at_home     other  ...   \n",
              "2     GP   F   15       U     LE3       T     1     1  at_home     other  ...   \n",
              "3     GP   F   15       U     GT3       T     4     2   health  services  ...   \n",
              "4     GP   F   16       U     GT3       T     3     3    other     other  ...   \n",
              "\n",
              "  famrel freetime  goout  Dalc  Walc health absences  G1  G2  G3  \n",
              "0      4        3      4     1     1      3        6   5   6   6  \n",
              "1      5        3      3     1     1      3        4   5   5   6  \n",
              "2      4        3      2     2     3      3       10   7   8  10  \n",
              "3      3        2      2     1     1      5        2  15  14  15  \n",
              "4      4        3      2     1     2      5        4   6  10  10  \n",
              "\n",
              "[5 rows x 33 columns]"
            ],
            "text/html": [
              "\n",
              "  <div id=\"df-974301a7-158e-402c-8d54-7be58d83db44\">\n",
              "    <div class=\"colab-df-container\">\n",
              "      <div>\n",
              "<style scoped>\n",
              "    .dataframe tbody tr th:only-of-type {\n",
              "        vertical-align: middle;\n",
              "    }\n",
              "\n",
              "    .dataframe tbody tr th {\n",
              "        vertical-align: top;\n",
              "    }\n",
              "\n",
              "    .dataframe thead th {\n",
              "        text-align: right;\n",
              "    }\n",
              "</style>\n",
              "<table border=\"1\" class=\"dataframe\">\n",
              "  <thead>\n",
              "    <tr style=\"text-align: right;\">\n",
              "      <th></th>\n",
              "      <th>school</th>\n",
              "      <th>sex</th>\n",
              "      <th>age</th>\n",
              "      <th>address</th>\n",
              "      <th>famsize</th>\n",
              "      <th>Pstatus</th>\n",
              "      <th>Medu</th>\n",
              "      <th>Fedu</th>\n",
              "      <th>Mjob</th>\n",
              "      <th>Fjob</th>\n",
              "      <th>...</th>\n",
              "      <th>famrel</th>\n",
              "      <th>freetime</th>\n",
              "      <th>goout</th>\n",
              "      <th>Dalc</th>\n",
              "      <th>Walc</th>\n",
              "      <th>health</th>\n",
              "      <th>absences</th>\n",
              "      <th>G1</th>\n",
              "      <th>G2</th>\n",
              "      <th>G3</th>\n",
              "    </tr>\n",
              "  </thead>\n",
              "  <tbody>\n",
              "    <tr>\n",
              "      <th>0</th>\n",
              "      <td>GP</td>\n",
              "      <td>F</td>\n",
              "      <td>18</td>\n",
              "      <td>U</td>\n",
              "      <td>GT3</td>\n",
              "      <td>A</td>\n",
              "      <td>4</td>\n",
              "      <td>4</td>\n",
              "      <td>at_home</td>\n",
              "      <td>teacher</td>\n",
              "      <td>...</td>\n",
              "      <td>4</td>\n",
              "      <td>3</td>\n",
              "      <td>4</td>\n",
              "      <td>1</td>\n",
              "      <td>1</td>\n",
              "      <td>3</td>\n",
              "      <td>6</td>\n",
              "      <td>5</td>\n",
              "      <td>6</td>\n",
              "      <td>6</td>\n",
              "    </tr>\n",
              "    <tr>\n",
              "      <th>1</th>\n",
              "      <td>GP</td>\n",
              "      <td>F</td>\n",
              "      <td>17</td>\n",
              "      <td>U</td>\n",
              "      <td>GT3</td>\n",
              "      <td>T</td>\n",
              "      <td>1</td>\n",
              "      <td>1</td>\n",
              "      <td>at_home</td>\n",
              "      <td>other</td>\n",
              "      <td>...</td>\n",
              "      <td>5</td>\n",
              "      <td>3</td>\n",
              "      <td>3</td>\n",
              "      <td>1</td>\n",
              "      <td>1</td>\n",
              "      <td>3</td>\n",
              "      <td>4</td>\n",
              "      <td>5</td>\n",
              "      <td>5</td>\n",
              "      <td>6</td>\n",
              "    </tr>\n",
              "    <tr>\n",
              "      <th>2</th>\n",
              "      <td>GP</td>\n",
              "      <td>F</td>\n",
              "      <td>15</td>\n",
              "      <td>U</td>\n",
              "      <td>LE3</td>\n",
              "      <td>T</td>\n",
              "      <td>1</td>\n",
              "      <td>1</td>\n",
              "      <td>at_home</td>\n",
              "      <td>other</td>\n",
              "      <td>...</td>\n",
              "      <td>4</td>\n",
              "      <td>3</td>\n",
              "      <td>2</td>\n",
              "      <td>2</td>\n",
              "      <td>3</td>\n",
              "      <td>3</td>\n",
              "      <td>10</td>\n",
              "      <td>7</td>\n",
              "      <td>8</td>\n",
              "      <td>10</td>\n",
              "    </tr>\n",
              "    <tr>\n",
              "      <th>3</th>\n",
              "      <td>GP</td>\n",
              "      <td>F</td>\n",
              "      <td>15</td>\n",
              "      <td>U</td>\n",
              "      <td>GT3</td>\n",
              "      <td>T</td>\n",
              "      <td>4</td>\n",
              "      <td>2</td>\n",
              "      <td>health</td>\n",
              "      <td>services</td>\n",
              "      <td>...</td>\n",
              "      <td>3</td>\n",
              "      <td>2</td>\n",
              "      <td>2</td>\n",
              "      <td>1</td>\n",
              "      <td>1</td>\n",
              "      <td>5</td>\n",
              "      <td>2</td>\n",
              "      <td>15</td>\n",
              "      <td>14</td>\n",
              "      <td>15</td>\n",
              "    </tr>\n",
              "    <tr>\n",
              "      <th>4</th>\n",
              "      <td>GP</td>\n",
              "      <td>F</td>\n",
              "      <td>16</td>\n",
              "      <td>U</td>\n",
              "      <td>GT3</td>\n",
              "      <td>T</td>\n",
              "      <td>3</td>\n",
              "      <td>3</td>\n",
              "      <td>other</td>\n",
              "      <td>other</td>\n",
              "      <td>...</td>\n",
              "      <td>4</td>\n",
              "      <td>3</td>\n",
              "      <td>2</td>\n",
              "      <td>1</td>\n",
              "      <td>2</td>\n",
              "      <td>5</td>\n",
              "      <td>4</td>\n",
              "      <td>6</td>\n",
              "      <td>10</td>\n",
              "      <td>10</td>\n",
              "    </tr>\n",
              "  </tbody>\n",
              "</table>\n",
              "<p>5 rows × 33 columns</p>\n",
              "</div>\n",
              "      <button class=\"colab-df-convert\" onclick=\"convertToInteractive('df-974301a7-158e-402c-8d54-7be58d83db44')\"\n",
              "              title=\"Convert this dataframe to an interactive table.\"\n",
              "              style=\"display:none;\">\n",
              "        \n",
              "  <svg xmlns=\"http://www.w3.org/2000/svg\" height=\"24px\"viewBox=\"0 0 24 24\"\n",
              "       width=\"24px\">\n",
              "    <path d=\"M0 0h24v24H0V0z\" fill=\"none\"/>\n",
              "    <path d=\"M18.56 5.44l.94 2.06.94-2.06 2.06-.94-2.06-.94-.94-2.06-.94 2.06-2.06.94zm-11 1L8.5 8.5l.94-2.06 2.06-.94-2.06-.94L8.5 2.5l-.94 2.06-2.06.94zm10 10l.94 2.06.94-2.06 2.06-.94-2.06-.94-.94-2.06-.94 2.06-2.06.94z\"/><path d=\"M17.41 7.96l-1.37-1.37c-.4-.4-.92-.59-1.43-.59-.52 0-1.04.2-1.43.59L10.3 9.45l-7.72 7.72c-.78.78-.78 2.05 0 2.83L4 21.41c.39.39.9.59 1.41.59.51 0 1.02-.2 1.41-.59l7.78-7.78 2.81-2.81c.8-.78.8-2.07 0-2.86zM5.41 20L4 18.59l7.72-7.72 1.47 1.35L5.41 20z\"/>\n",
              "  </svg>\n",
              "      </button>\n",
              "      \n",
              "  <style>\n",
              "    .colab-df-container {\n",
              "      display:flex;\n",
              "      flex-wrap:wrap;\n",
              "      gap: 12px;\n",
              "    }\n",
              "\n",
              "    .colab-df-convert {\n",
              "      background-color: #E8F0FE;\n",
              "      border: none;\n",
              "      border-radius: 50%;\n",
              "      cursor: pointer;\n",
              "      display: none;\n",
              "      fill: #1967D2;\n",
              "      height: 32px;\n",
              "      padding: 0 0 0 0;\n",
              "      width: 32px;\n",
              "    }\n",
              "\n",
              "    .colab-df-convert:hover {\n",
              "      background-color: #E2EBFA;\n",
              "      box-shadow: 0px 1px 2px rgba(60, 64, 67, 0.3), 0px 1px 3px 1px rgba(60, 64, 67, 0.15);\n",
              "      fill: #174EA6;\n",
              "    }\n",
              "\n",
              "    [theme=dark] .colab-df-convert {\n",
              "      background-color: #3B4455;\n",
              "      fill: #D2E3FC;\n",
              "    }\n",
              "\n",
              "    [theme=dark] .colab-df-convert:hover {\n",
              "      background-color: #434B5C;\n",
              "      box-shadow: 0px 1px 3px 1px rgba(0, 0, 0, 0.15);\n",
              "      filter: drop-shadow(0px 1px 2px rgba(0, 0, 0, 0.3));\n",
              "      fill: #FFFFFF;\n",
              "    }\n",
              "  </style>\n",
              "\n",
              "      <script>\n",
              "        const buttonEl =\n",
              "          document.querySelector('#df-974301a7-158e-402c-8d54-7be58d83db44 button.colab-df-convert');\n",
              "        buttonEl.style.display =\n",
              "          google.colab.kernel.accessAllowed ? 'block' : 'none';\n",
              "\n",
              "        async function convertToInteractive(key) {\n",
              "          const element = document.querySelector('#df-974301a7-158e-402c-8d54-7be58d83db44');\n",
              "          const dataTable =\n",
              "            await google.colab.kernel.invokeFunction('convertToInteractive',\n",
              "                                                     [key], {});\n",
              "          if (!dataTable) return;\n",
              "\n",
              "          const docLinkHtml = 'Like what you see? Visit the ' +\n",
              "            '<a target=\"_blank\" href=https://colab.research.google.com/notebooks/data_table.ipynb>data table notebook</a>'\n",
              "            + ' to learn more about interactive tables.';\n",
              "          element.innerHTML = '';\n",
              "          dataTable['output_type'] = 'display_data';\n",
              "          await google.colab.output.renderOutput(dataTable, element);\n",
              "          const docLink = document.createElement('div');\n",
              "          docLink.innerHTML = docLinkHtml;\n",
              "          element.appendChild(docLink);\n",
              "        }\n",
              "      </script>\n",
              "    </div>\n",
              "  </div>\n",
              "  "
            ]
          },
          "metadata": {},
          "execution_count": 6
        }
      ]
    },
    {
      "cell_type": "code",
      "source": [
        "df.shape"
      ],
      "metadata": {
        "colab": {
          "base_uri": "https://localhost:8080/"
        },
        "id": "bYdVUrKlD8l_",
        "outputId": "8349404d-1caf-4b29-f0e7-515265718a3d"
      },
      "execution_count": null,
      "outputs": [
        {
          "output_type": "execute_result",
          "data": {
            "text/plain": [
              "(395, 33)"
            ]
          },
          "metadata": {},
          "execution_count": 7
        }
      ]
    },
    {
      "cell_type": "markdown",
      "source": [
        "## **Limpeza de dados**"
      ],
      "metadata": {
        "id": "RrffgH6KF8pB"
      }
    },
    {
      "cell_type": "markdown",
      "source": [
        "Foi retirada algumas colunas com muitas variantes e as que não fazem muito sentido para o estudo:"
      ],
      "metadata": {
        "id": "jBYwSm_hF9zr"
      }
    },
    {
      "cell_type": "code",
      "source": [
        "lista_colunas_removidas = [\n",
        "'school','Medu', 'Fedu', 'famsize', 'Mjob', 'Fjob', 'reason', 'traveltime', 'schoolsup', 'paid', 'nursery', 'freetime', 'absences', 'G1', 'G2', 'G3'\n",
        "]\n",
        "\n",
        "df = df.drop(columns = lista_colunas_removidas)"
      ],
      "metadata": {
        "id": "v_JfZmOyGCwq"
      },
      "execution_count": null,
      "outputs": []
    },
    {
      "cell_type": "code",
      "source": [
        "df.head()"
      ],
      "metadata": {
        "colab": {
          "base_uri": "https://localhost:8080/",
          "height": 206
        },
        "id": "uEMxUdtrGGOT",
        "outputId": "818cc349-fa8e-46c7-8c52-4e29c88aa3df"
      },
      "execution_count": null,
      "outputs": [
        {
          "output_type": "execute_result",
          "data": {
            "text/plain": [
              "  sex  age address Pstatus guardian  studytime  failures famsup activities  \\\n",
              "0   F   18       U       A   mother          2         0     no         no   \n",
              "1   F   17       U       T   father          2         0    yes         no   \n",
              "2   F   15       U       T   mother          2         3     no         no   \n",
              "3   F   15       U       T   mother          3         0    yes        yes   \n",
              "4   F   16       U       T   father          2         0    yes         no   \n",
              "\n",
              "  higher internet romantic  famrel  goout  Dalc  Walc  health  \n",
              "0    yes       no       no       4      4     1     1       3  \n",
              "1    yes      yes       no       5      3     1     1       3  \n",
              "2    yes      yes       no       4      2     2     3       3  \n",
              "3    yes      yes      yes       3      2     1     1       5  \n",
              "4    yes       no       no       4      2     1     2       5  "
            ],
            "text/html": [
              "\n",
              "  <div id=\"df-c18fe15b-0931-45f9-bf28-9b76d4ac6419\">\n",
              "    <div class=\"colab-df-container\">\n",
              "      <div>\n",
              "<style scoped>\n",
              "    .dataframe tbody tr th:only-of-type {\n",
              "        vertical-align: middle;\n",
              "    }\n",
              "\n",
              "    .dataframe tbody tr th {\n",
              "        vertical-align: top;\n",
              "    }\n",
              "\n",
              "    .dataframe thead th {\n",
              "        text-align: right;\n",
              "    }\n",
              "</style>\n",
              "<table border=\"1\" class=\"dataframe\">\n",
              "  <thead>\n",
              "    <tr style=\"text-align: right;\">\n",
              "      <th></th>\n",
              "      <th>sex</th>\n",
              "      <th>age</th>\n",
              "      <th>address</th>\n",
              "      <th>Pstatus</th>\n",
              "      <th>guardian</th>\n",
              "      <th>studytime</th>\n",
              "      <th>failures</th>\n",
              "      <th>famsup</th>\n",
              "      <th>activities</th>\n",
              "      <th>higher</th>\n",
              "      <th>internet</th>\n",
              "      <th>romantic</th>\n",
              "      <th>famrel</th>\n",
              "      <th>goout</th>\n",
              "      <th>Dalc</th>\n",
              "      <th>Walc</th>\n",
              "      <th>health</th>\n",
              "    </tr>\n",
              "  </thead>\n",
              "  <tbody>\n",
              "    <tr>\n",
              "      <th>0</th>\n",
              "      <td>F</td>\n",
              "      <td>18</td>\n",
              "      <td>U</td>\n",
              "      <td>A</td>\n",
              "      <td>mother</td>\n",
              "      <td>2</td>\n",
              "      <td>0</td>\n",
              "      <td>no</td>\n",
              "      <td>no</td>\n",
              "      <td>yes</td>\n",
              "      <td>no</td>\n",
              "      <td>no</td>\n",
              "      <td>4</td>\n",
              "      <td>4</td>\n",
              "      <td>1</td>\n",
              "      <td>1</td>\n",
              "      <td>3</td>\n",
              "    </tr>\n",
              "    <tr>\n",
              "      <th>1</th>\n",
              "      <td>F</td>\n",
              "      <td>17</td>\n",
              "      <td>U</td>\n",
              "      <td>T</td>\n",
              "      <td>father</td>\n",
              "      <td>2</td>\n",
              "      <td>0</td>\n",
              "      <td>yes</td>\n",
              "      <td>no</td>\n",
              "      <td>yes</td>\n",
              "      <td>yes</td>\n",
              "      <td>no</td>\n",
              "      <td>5</td>\n",
              "      <td>3</td>\n",
              "      <td>1</td>\n",
              "      <td>1</td>\n",
              "      <td>3</td>\n",
              "    </tr>\n",
              "    <tr>\n",
              "      <th>2</th>\n",
              "      <td>F</td>\n",
              "      <td>15</td>\n",
              "      <td>U</td>\n",
              "      <td>T</td>\n",
              "      <td>mother</td>\n",
              "      <td>2</td>\n",
              "      <td>3</td>\n",
              "      <td>no</td>\n",
              "      <td>no</td>\n",
              "      <td>yes</td>\n",
              "      <td>yes</td>\n",
              "      <td>no</td>\n",
              "      <td>4</td>\n",
              "      <td>2</td>\n",
              "      <td>2</td>\n",
              "      <td>3</td>\n",
              "      <td>3</td>\n",
              "    </tr>\n",
              "    <tr>\n",
              "      <th>3</th>\n",
              "      <td>F</td>\n",
              "      <td>15</td>\n",
              "      <td>U</td>\n",
              "      <td>T</td>\n",
              "      <td>mother</td>\n",
              "      <td>3</td>\n",
              "      <td>0</td>\n",
              "      <td>yes</td>\n",
              "      <td>yes</td>\n",
              "      <td>yes</td>\n",
              "      <td>yes</td>\n",
              "      <td>yes</td>\n",
              "      <td>3</td>\n",
              "      <td>2</td>\n",
              "      <td>1</td>\n",
              "      <td>1</td>\n",
              "      <td>5</td>\n",
              "    </tr>\n",
              "    <tr>\n",
              "      <th>4</th>\n",
              "      <td>F</td>\n",
              "      <td>16</td>\n",
              "      <td>U</td>\n",
              "      <td>T</td>\n",
              "      <td>father</td>\n",
              "      <td>2</td>\n",
              "      <td>0</td>\n",
              "      <td>yes</td>\n",
              "      <td>no</td>\n",
              "      <td>yes</td>\n",
              "      <td>no</td>\n",
              "      <td>no</td>\n",
              "      <td>4</td>\n",
              "      <td>2</td>\n",
              "      <td>1</td>\n",
              "      <td>2</td>\n",
              "      <td>5</td>\n",
              "    </tr>\n",
              "  </tbody>\n",
              "</table>\n",
              "</div>\n",
              "      <button class=\"colab-df-convert\" onclick=\"convertToInteractive('df-c18fe15b-0931-45f9-bf28-9b76d4ac6419')\"\n",
              "              title=\"Convert this dataframe to an interactive table.\"\n",
              "              style=\"display:none;\">\n",
              "        \n",
              "  <svg xmlns=\"http://www.w3.org/2000/svg\" height=\"24px\"viewBox=\"0 0 24 24\"\n",
              "       width=\"24px\">\n",
              "    <path d=\"M0 0h24v24H0V0z\" fill=\"none\"/>\n",
              "    <path d=\"M18.56 5.44l.94 2.06.94-2.06 2.06-.94-2.06-.94-.94-2.06-.94 2.06-2.06.94zm-11 1L8.5 8.5l.94-2.06 2.06-.94-2.06-.94L8.5 2.5l-.94 2.06-2.06.94zm10 10l.94 2.06.94-2.06 2.06-.94-2.06-.94-.94-2.06-.94 2.06-2.06.94z\"/><path d=\"M17.41 7.96l-1.37-1.37c-.4-.4-.92-.59-1.43-.59-.52 0-1.04.2-1.43.59L10.3 9.45l-7.72 7.72c-.78.78-.78 2.05 0 2.83L4 21.41c.39.39.9.59 1.41.59.51 0 1.02-.2 1.41-.59l7.78-7.78 2.81-2.81c.8-.78.8-2.07 0-2.86zM5.41 20L4 18.59l7.72-7.72 1.47 1.35L5.41 20z\"/>\n",
              "  </svg>\n",
              "      </button>\n",
              "      \n",
              "  <style>\n",
              "    .colab-df-container {\n",
              "      display:flex;\n",
              "      flex-wrap:wrap;\n",
              "      gap: 12px;\n",
              "    }\n",
              "\n",
              "    .colab-df-convert {\n",
              "      background-color: #E8F0FE;\n",
              "      border: none;\n",
              "      border-radius: 50%;\n",
              "      cursor: pointer;\n",
              "      display: none;\n",
              "      fill: #1967D2;\n",
              "      height: 32px;\n",
              "      padding: 0 0 0 0;\n",
              "      width: 32px;\n",
              "    }\n",
              "\n",
              "    .colab-df-convert:hover {\n",
              "      background-color: #E2EBFA;\n",
              "      box-shadow: 0px 1px 2px rgba(60, 64, 67, 0.3), 0px 1px 3px 1px rgba(60, 64, 67, 0.15);\n",
              "      fill: #174EA6;\n",
              "    }\n",
              "\n",
              "    [theme=dark] .colab-df-convert {\n",
              "      background-color: #3B4455;\n",
              "      fill: #D2E3FC;\n",
              "    }\n",
              "\n",
              "    [theme=dark] .colab-df-convert:hover {\n",
              "      background-color: #434B5C;\n",
              "      box-shadow: 0px 1px 3px 1px rgba(0, 0, 0, 0.15);\n",
              "      filter: drop-shadow(0px 1px 2px rgba(0, 0, 0, 0.3));\n",
              "      fill: #FFFFFF;\n",
              "    }\n",
              "  </style>\n",
              "\n",
              "      <script>\n",
              "        const buttonEl =\n",
              "          document.querySelector('#df-c18fe15b-0931-45f9-bf28-9b76d4ac6419 button.colab-df-convert');\n",
              "        buttonEl.style.display =\n",
              "          google.colab.kernel.accessAllowed ? 'block' : 'none';\n",
              "\n",
              "        async function convertToInteractive(key) {\n",
              "          const element = document.querySelector('#df-c18fe15b-0931-45f9-bf28-9b76d4ac6419');\n",
              "          const dataTable =\n",
              "            await google.colab.kernel.invokeFunction('convertToInteractive',\n",
              "                                                     [key], {});\n",
              "          if (!dataTable) return;\n",
              "\n",
              "          const docLinkHtml = 'Like what you see? Visit the ' +\n",
              "            '<a target=\"_blank\" href=https://colab.research.google.com/notebooks/data_table.ipynb>data table notebook</a>'\n",
              "            + ' to learn more about interactive tables.';\n",
              "          element.innerHTML = '';\n",
              "          dataTable['output_type'] = 'display_data';\n",
              "          await google.colab.output.renderOutput(dataTable, element);\n",
              "          const docLink = document.createElement('div');\n",
              "          docLink.innerHTML = docLinkHtml;\n",
              "          element.appendChild(docLink);\n",
              "        }\n",
              "      </script>\n",
              "    </div>\n",
              "  </div>\n",
              "  "
            ]
          },
          "metadata": {},
          "execution_count": 11
        }
      ]
    },
    {
      "cell_type": "code",
      "source": [
        "df.dtypes"
      ],
      "metadata": {
        "colab": {
          "base_uri": "https://localhost:8080/"
        },
        "id": "cdev34PqGI1P",
        "outputId": "42d59473-99c6-4c17-fea3-b3af5dc860b5"
      },
      "execution_count": null,
      "outputs": [
        {
          "output_type": "execute_result",
          "data": {
            "text/plain": [
              "sex           object\n",
              "age            int64\n",
              "address       object\n",
              "Pstatus       object\n",
              "guardian      object\n",
              "studytime      int64\n",
              "failures       int64\n",
              "famsup        object\n",
              "activities    object\n",
              "higher        object\n",
              "internet      object\n",
              "romantic      object\n",
              "famrel         int64\n",
              "goout          int64\n",
              "Dalc           int64\n",
              "Walc           int64\n",
              "health         int64\n",
              "dtype: object"
            ]
          },
          "metadata": {},
          "execution_count": 12
        }
      ]
    },
    {
      "cell_type": "markdown",
      "source": [
        "### **LabelEncoder: transformação de variáveis categóricas em numéricas**"
      ],
      "metadata": {
        "id": "4_4s-F5VGl8J"
      }
    },
    {
      "cell_type": "code",
      "source": [
        "df2 = pd.DataFrame.copy(df)"
      ],
      "metadata": {
        "id": "x1sV0PqSGQ69"
      },
      "execution_count": null,
      "outputs": []
    },
    {
      "cell_type": "markdown",
      "source": [
        "Mudar os dados \"object\" para \"int64\" das seguintes colunas:"
      ],
      "metadata": {
        "id": "BB5EA3vOGUOs"
      }
    },
    {
      "cell_type": "markdown",
      "source": [
        "-sex"
      ],
      "metadata": {
        "id": "d19EXXVTGVDa"
      }
    },
    {
      "cell_type": "code",
      "source": [
        "df2['sex'].unique()"
      ],
      "metadata": {
        "colab": {
          "base_uri": "https://localhost:8080/"
        },
        "id": "pWRNBaZ8GXi3",
        "outputId": "548ea3ba-cc9b-44ed-bf4b-8445c6e45af3"
      },
      "execution_count": null,
      "outputs": [
        {
          "output_type": "execute_result",
          "data": {
            "text/plain": [
              "array(['F', 'M'], dtype=object)"
            ]
          },
          "metadata": {},
          "execution_count": 14
        }
      ]
    },
    {
      "cell_type": "code",
      "source": [
        "df2['sex'].replace({'F':0, 'M': 1}, inplace=True)"
      ],
      "metadata": {
        "id": "u0x1fxhfGX1Y"
      },
      "execution_count": null,
      "outputs": []
    },
    {
      "cell_type": "markdown",
      "source": [
        "-address"
      ],
      "metadata": {
        "id": "pM3G8uzuGp1b"
      }
    },
    {
      "cell_type": "code",
      "source": [
        "df2['address'].unique()"
      ],
      "metadata": {
        "colab": {
          "base_uri": "https://localhost:8080/"
        },
        "id": "C8JuU-CyGqNK",
        "outputId": "31730e66-b28c-4ab4-a234-061ff94f874b"
      },
      "execution_count": null,
      "outputs": [
        {
          "output_type": "execute_result",
          "data": {
            "text/plain": [
              "array(['U', 'R'], dtype=object)"
            ]
          },
          "metadata": {},
          "execution_count": 16
        }
      ]
    },
    {
      "cell_type": "code",
      "source": [
        "df2['address'].replace({'U':0, 'R': 1}, inplace=True)"
      ],
      "metadata": {
        "id": "K8XJWjPJGqfS"
      },
      "execution_count": null,
      "outputs": []
    },
    {
      "cell_type": "markdown",
      "source": [
        "-Pstatus"
      ],
      "metadata": {
        "id": "7w0MuPhtGxy8"
      }
    },
    {
      "cell_type": "code",
      "source": [
        "df2['Pstatus'].unique()"
      ],
      "metadata": {
        "colab": {
          "base_uri": "https://localhost:8080/"
        },
        "id": "bA5vrAWRGyOj",
        "outputId": "13c995cd-7b91-499d-9e95-794ec88323ad"
      },
      "execution_count": null,
      "outputs": [
        {
          "output_type": "execute_result",
          "data": {
            "text/plain": [
              "array(['A', 'T'], dtype=object)"
            ]
          },
          "metadata": {},
          "execution_count": 18
        }
      ]
    },
    {
      "cell_type": "code",
      "source": [
        "df2['Pstatus'].replace({'A':0, 'T': 1}, inplace=True)"
      ],
      "metadata": {
        "id": "zJeTGmbZGykK"
      },
      "execution_count": null,
      "outputs": []
    },
    {
      "cell_type": "markdown",
      "source": [
        "-guardian"
      ],
      "metadata": {
        "id": "Z9paiMC3G8Ch"
      }
    },
    {
      "cell_type": "code",
      "source": [
        "df2['guardian'].unique()"
      ],
      "metadata": {
        "colab": {
          "base_uri": "https://localhost:8080/"
        },
        "id": "ARow3tiDG8te",
        "outputId": "7e529d77-d073-48f5-c9ae-eb258b32e5fc"
      },
      "execution_count": null,
      "outputs": [
        {
          "output_type": "execute_result",
          "data": {
            "text/plain": [
              "array(['mother', 'father', 'other'], dtype=object)"
            ]
          },
          "metadata": {},
          "execution_count": 20
        }
      ]
    },
    {
      "cell_type": "code",
      "source": [
        "df2['guardian'].replace({'mother':0, 'father': 1, 'other':2}, inplace=True)"
      ],
      "metadata": {
        "id": "U1pClic7G9B9"
      },
      "execution_count": null,
      "outputs": []
    },
    {
      "cell_type": "markdown",
      "source": [
        "-famsup"
      ],
      "metadata": {
        "id": "VWSuJPKCHDWg"
      }
    },
    {
      "cell_type": "code",
      "source": [
        "df2['famsup'].unique()"
      ],
      "metadata": {
        "colab": {
          "base_uri": "https://localhost:8080/"
        },
        "id": "wLLnARfHHEBt",
        "outputId": "fc82fab7-36a7-48ee-848d-ad59984ab743"
      },
      "execution_count": null,
      "outputs": [
        {
          "output_type": "execute_result",
          "data": {
            "text/plain": [
              "array(['no', 'yes'], dtype=object)"
            ]
          },
          "metadata": {},
          "execution_count": 22
        }
      ]
    },
    {
      "cell_type": "code",
      "source": [
        "df2['famsup'].replace({'no':0, 'yes': 1}, inplace=True)"
      ],
      "metadata": {
        "id": "Tza8kjFVHEUy"
      },
      "execution_count": null,
      "outputs": []
    },
    {
      "cell_type": "markdown",
      "source": [
        "-activities"
      ],
      "metadata": {
        "id": "FFSjbzYdHLEQ"
      }
    },
    {
      "cell_type": "code",
      "source": [
        "df2['activities'].unique()"
      ],
      "metadata": {
        "colab": {
          "base_uri": "https://localhost:8080/"
        },
        "id": "DZWpOLU6HLtk",
        "outputId": "9b0018e2-e5cb-48d6-e7b5-88744886caac"
      },
      "execution_count": null,
      "outputs": [
        {
          "output_type": "execute_result",
          "data": {
            "text/plain": [
              "array(['no', 'yes'], dtype=object)"
            ]
          },
          "metadata": {},
          "execution_count": 24
        }
      ]
    },
    {
      "cell_type": "code",
      "source": [
        "df2['activities'].replace({'no':0, 'yes': 1}, inplace=True)"
      ],
      "metadata": {
        "id": "CN3lr4fmHL-l"
      },
      "execution_count": null,
      "outputs": []
    },
    {
      "cell_type": "markdown",
      "source": [
        "-higher"
      ],
      "metadata": {
        "id": "VuMjO5S-HULk"
      }
    },
    {
      "cell_type": "code",
      "source": [
        "df2['higher'].unique()"
      ],
      "metadata": {
        "colab": {
          "base_uri": "https://localhost:8080/"
        },
        "id": "knPFHrIkHWH8",
        "outputId": "43d26ec2-d06f-468e-8a56-426c93a79dbb"
      },
      "execution_count": null,
      "outputs": [
        {
          "output_type": "execute_result",
          "data": {
            "text/plain": [
              "array(['yes', 'no'], dtype=object)"
            ]
          },
          "metadata": {},
          "execution_count": 26
        }
      ]
    },
    {
      "cell_type": "code",
      "source": [
        "df2['higher'].replace({'yes':0, 'no': 1}, inplace=True)"
      ],
      "metadata": {
        "id": "z_B9jW0XHWYI"
      },
      "execution_count": null,
      "outputs": []
    },
    {
      "cell_type": "markdown",
      "source": [
        "-internet"
      ],
      "metadata": {
        "id": "tb_seZ0jHcFZ"
      }
    },
    {
      "cell_type": "code",
      "source": [
        "df2['internet'].unique()"
      ],
      "metadata": {
        "colab": {
          "base_uri": "https://localhost:8080/"
        },
        "id": "FGBy4IuLHcrg",
        "outputId": "455901dd-84b8-4a8b-bd9f-9a8319e08513"
      },
      "execution_count": null,
      "outputs": [
        {
          "output_type": "execute_result",
          "data": {
            "text/plain": [
              "array(['no', 'yes'], dtype=object)"
            ]
          },
          "metadata": {},
          "execution_count": 28
        }
      ]
    },
    {
      "cell_type": "code",
      "source": [
        "df2['internet'].replace({'no':0, 'yes': 1}, inplace=True)"
      ],
      "metadata": {
        "id": "QSKho-4dHc7j"
      },
      "execution_count": null,
      "outputs": []
    },
    {
      "cell_type": "markdown",
      "source": [
        "-romantic"
      ],
      "metadata": {
        "id": "-KVx-CC7HjGk"
      }
    },
    {
      "cell_type": "code",
      "source": [
        "df2['romantic'].unique()"
      ],
      "metadata": {
        "colab": {
          "base_uri": "https://localhost:8080/"
        },
        "id": "YHf0CkXkHjrG",
        "outputId": "fcc77eed-48ce-4fa8-d384-036cdbfb987e"
      },
      "execution_count": null,
      "outputs": [
        {
          "output_type": "execute_result",
          "data": {
            "text/plain": [
              "array(['no', 'yes'], dtype=object)"
            ]
          },
          "metadata": {},
          "execution_count": 30
        }
      ]
    },
    {
      "cell_type": "code",
      "source": [
        "df2['romantic'].replace({'no':0, 'yes': 1}, inplace=True)"
      ],
      "metadata": {
        "id": "QWjD6tM5Hj7D"
      },
      "execution_count": null,
      "outputs": []
    },
    {
      "cell_type": "code",
      "source": [
        "df2.head()"
      ],
      "metadata": {
        "colab": {
          "base_uri": "https://localhost:8080/",
          "height": 206
        },
        "id": "hV787lbQEB43",
        "outputId": "57d55926-3aba-4685-d7e7-32f0c77ce302"
      },
      "execution_count": null,
      "outputs": [
        {
          "output_type": "execute_result",
          "data": {
            "text/plain": [
              "   sex  age  address  Pstatus  guardian  studytime  failures  famsup  \\\n",
              "0    0   18        0        0         0          2         0       0   \n",
              "1    0   17        0        1         1          2         0       1   \n",
              "2    0   15        0        1         0          2         3       0   \n",
              "3    0   15        0        1         0          3         0       1   \n",
              "4    0   16        0        1         1          2         0       1   \n",
              "\n",
              "   activities  higher  internet  romantic  famrel  goout  Dalc  Walc  health  \n",
              "0           0       0         0         0       4      4     1     1       3  \n",
              "1           0       0         1         0       5      3     1     1       3  \n",
              "2           0       0         1         0       4      2     2     3       3  \n",
              "3           1       0         1         1       3      2     1     1       5  \n",
              "4           0       0         0         0       4      2     1     2       5  "
            ],
            "text/html": [
              "\n",
              "  <div id=\"df-dbf15bc4-ab6e-4472-9cf3-cea78a383f10\">\n",
              "    <div class=\"colab-df-container\">\n",
              "      <div>\n",
              "<style scoped>\n",
              "    .dataframe tbody tr th:only-of-type {\n",
              "        vertical-align: middle;\n",
              "    }\n",
              "\n",
              "    .dataframe tbody tr th {\n",
              "        vertical-align: top;\n",
              "    }\n",
              "\n",
              "    .dataframe thead th {\n",
              "        text-align: right;\n",
              "    }\n",
              "</style>\n",
              "<table border=\"1\" class=\"dataframe\">\n",
              "  <thead>\n",
              "    <tr style=\"text-align: right;\">\n",
              "      <th></th>\n",
              "      <th>sex</th>\n",
              "      <th>age</th>\n",
              "      <th>address</th>\n",
              "      <th>Pstatus</th>\n",
              "      <th>guardian</th>\n",
              "      <th>studytime</th>\n",
              "      <th>failures</th>\n",
              "      <th>famsup</th>\n",
              "      <th>activities</th>\n",
              "      <th>higher</th>\n",
              "      <th>internet</th>\n",
              "      <th>romantic</th>\n",
              "      <th>famrel</th>\n",
              "      <th>goout</th>\n",
              "      <th>Dalc</th>\n",
              "      <th>Walc</th>\n",
              "      <th>health</th>\n",
              "    </tr>\n",
              "  </thead>\n",
              "  <tbody>\n",
              "    <tr>\n",
              "      <th>0</th>\n",
              "      <td>0</td>\n",
              "      <td>18</td>\n",
              "      <td>0</td>\n",
              "      <td>0</td>\n",
              "      <td>0</td>\n",
              "      <td>2</td>\n",
              "      <td>0</td>\n",
              "      <td>0</td>\n",
              "      <td>0</td>\n",
              "      <td>0</td>\n",
              "      <td>0</td>\n",
              "      <td>0</td>\n",
              "      <td>4</td>\n",
              "      <td>4</td>\n",
              "      <td>1</td>\n",
              "      <td>1</td>\n",
              "      <td>3</td>\n",
              "    </tr>\n",
              "    <tr>\n",
              "      <th>1</th>\n",
              "      <td>0</td>\n",
              "      <td>17</td>\n",
              "      <td>0</td>\n",
              "      <td>1</td>\n",
              "      <td>1</td>\n",
              "      <td>2</td>\n",
              "      <td>0</td>\n",
              "      <td>1</td>\n",
              "      <td>0</td>\n",
              "      <td>0</td>\n",
              "      <td>1</td>\n",
              "      <td>0</td>\n",
              "      <td>5</td>\n",
              "      <td>3</td>\n",
              "      <td>1</td>\n",
              "      <td>1</td>\n",
              "      <td>3</td>\n",
              "    </tr>\n",
              "    <tr>\n",
              "      <th>2</th>\n",
              "      <td>0</td>\n",
              "      <td>15</td>\n",
              "      <td>0</td>\n",
              "      <td>1</td>\n",
              "      <td>0</td>\n",
              "      <td>2</td>\n",
              "      <td>3</td>\n",
              "      <td>0</td>\n",
              "      <td>0</td>\n",
              "      <td>0</td>\n",
              "      <td>1</td>\n",
              "      <td>0</td>\n",
              "      <td>4</td>\n",
              "      <td>2</td>\n",
              "      <td>2</td>\n",
              "      <td>3</td>\n",
              "      <td>3</td>\n",
              "    </tr>\n",
              "    <tr>\n",
              "      <th>3</th>\n",
              "      <td>0</td>\n",
              "      <td>15</td>\n",
              "      <td>0</td>\n",
              "      <td>1</td>\n",
              "      <td>0</td>\n",
              "      <td>3</td>\n",
              "      <td>0</td>\n",
              "      <td>1</td>\n",
              "      <td>1</td>\n",
              "      <td>0</td>\n",
              "      <td>1</td>\n",
              "      <td>1</td>\n",
              "      <td>3</td>\n",
              "      <td>2</td>\n",
              "      <td>1</td>\n",
              "      <td>1</td>\n",
              "      <td>5</td>\n",
              "    </tr>\n",
              "    <tr>\n",
              "      <th>4</th>\n",
              "      <td>0</td>\n",
              "      <td>16</td>\n",
              "      <td>0</td>\n",
              "      <td>1</td>\n",
              "      <td>1</td>\n",
              "      <td>2</td>\n",
              "      <td>0</td>\n",
              "      <td>1</td>\n",
              "      <td>0</td>\n",
              "      <td>0</td>\n",
              "      <td>0</td>\n",
              "      <td>0</td>\n",
              "      <td>4</td>\n",
              "      <td>2</td>\n",
              "      <td>1</td>\n",
              "      <td>2</td>\n",
              "      <td>5</td>\n",
              "    </tr>\n",
              "  </tbody>\n",
              "</table>\n",
              "</div>\n",
              "      <button class=\"colab-df-convert\" onclick=\"convertToInteractive('df-dbf15bc4-ab6e-4472-9cf3-cea78a383f10')\"\n",
              "              title=\"Convert this dataframe to an interactive table.\"\n",
              "              style=\"display:none;\">\n",
              "        \n",
              "  <svg xmlns=\"http://www.w3.org/2000/svg\" height=\"24px\"viewBox=\"0 0 24 24\"\n",
              "       width=\"24px\">\n",
              "    <path d=\"M0 0h24v24H0V0z\" fill=\"none\"/>\n",
              "    <path d=\"M18.56 5.44l.94 2.06.94-2.06 2.06-.94-2.06-.94-.94-2.06-.94 2.06-2.06.94zm-11 1L8.5 8.5l.94-2.06 2.06-.94-2.06-.94L8.5 2.5l-.94 2.06-2.06.94zm10 10l.94 2.06.94-2.06 2.06-.94-2.06-.94-.94-2.06-.94 2.06-2.06.94z\"/><path d=\"M17.41 7.96l-1.37-1.37c-.4-.4-.92-.59-1.43-.59-.52 0-1.04.2-1.43.59L10.3 9.45l-7.72 7.72c-.78.78-.78 2.05 0 2.83L4 21.41c.39.39.9.59 1.41.59.51 0 1.02-.2 1.41-.59l7.78-7.78 2.81-2.81c.8-.78.8-2.07 0-2.86zM5.41 20L4 18.59l7.72-7.72 1.47 1.35L5.41 20z\"/>\n",
              "  </svg>\n",
              "      </button>\n",
              "      \n",
              "  <style>\n",
              "    .colab-df-container {\n",
              "      display:flex;\n",
              "      flex-wrap:wrap;\n",
              "      gap: 12px;\n",
              "    }\n",
              "\n",
              "    .colab-df-convert {\n",
              "      background-color: #E8F0FE;\n",
              "      border: none;\n",
              "      border-radius: 50%;\n",
              "      cursor: pointer;\n",
              "      display: none;\n",
              "      fill: #1967D2;\n",
              "      height: 32px;\n",
              "      padding: 0 0 0 0;\n",
              "      width: 32px;\n",
              "    }\n",
              "\n",
              "    .colab-df-convert:hover {\n",
              "      background-color: #E2EBFA;\n",
              "      box-shadow: 0px 1px 2px rgba(60, 64, 67, 0.3), 0px 1px 3px 1px rgba(60, 64, 67, 0.15);\n",
              "      fill: #174EA6;\n",
              "    }\n",
              "\n",
              "    [theme=dark] .colab-df-convert {\n",
              "      background-color: #3B4455;\n",
              "      fill: #D2E3FC;\n",
              "    }\n",
              "\n",
              "    [theme=dark] .colab-df-convert:hover {\n",
              "      background-color: #434B5C;\n",
              "      box-shadow: 0px 1px 3px 1px rgba(0, 0, 0, 0.15);\n",
              "      filter: drop-shadow(0px 1px 2px rgba(0, 0, 0, 0.3));\n",
              "      fill: #FFFFFF;\n",
              "    }\n",
              "  </style>\n",
              "\n",
              "      <script>\n",
              "        const buttonEl =\n",
              "          document.querySelector('#df-dbf15bc4-ab6e-4472-9cf3-cea78a383f10 button.colab-df-convert');\n",
              "        buttonEl.style.display =\n",
              "          google.colab.kernel.accessAllowed ? 'block' : 'none';\n",
              "\n",
              "        async function convertToInteractive(key) {\n",
              "          const element = document.querySelector('#df-dbf15bc4-ab6e-4472-9cf3-cea78a383f10');\n",
              "          const dataTable =\n",
              "            await google.colab.kernel.invokeFunction('convertToInteractive',\n",
              "                                                     [key], {});\n",
              "          if (!dataTable) return;\n",
              "\n",
              "          const docLinkHtml = 'Like what you see? Visit the ' +\n",
              "            '<a target=\"_blank\" href=https://colab.research.google.com/notebooks/data_table.ipynb>data table notebook</a>'\n",
              "            + ' to learn more about interactive tables.';\n",
              "          element.innerHTML = '';\n",
              "          dataTable['output_type'] = 'display_data';\n",
              "          await google.colab.output.renderOutput(dataTable, element);\n",
              "          const docLink = document.createElement('div');\n",
              "          docLink.innerHTML = docLinkHtml;\n",
              "          element.appendChild(docLink);\n",
              "        }\n",
              "      </script>\n",
              "    </div>\n",
              "  </div>\n",
              "  "
            ]
          },
          "metadata": {},
          "execution_count": 32
        }
      ]
    },
    {
      "cell_type": "code",
      "source": [
        "df2.dtypes"
      ],
      "metadata": {
        "colab": {
          "base_uri": "https://localhost:8080/"
        },
        "id": "p0o9eRwSEC8Y",
        "outputId": "1d01bf61-c206-45bc-ccc8-0b93a28f33a9"
      },
      "execution_count": null,
      "outputs": [
        {
          "output_type": "execute_result",
          "data": {
            "text/plain": [
              "sex           int64\n",
              "age           int64\n",
              "address       int64\n",
              "Pstatus       int64\n",
              "guardian      int64\n",
              "studytime     int64\n",
              "failures      int64\n",
              "famsup        int64\n",
              "activities    int64\n",
              "higher        int64\n",
              "internet      int64\n",
              "romantic      int64\n",
              "famrel        int64\n",
              "goout         int64\n",
              "Dalc          int64\n",
              "Walc          int64\n",
              "health        int64\n",
              "dtype: object"
            ]
          },
          "metadata": {},
          "execution_count": 33
        }
      ]
    },
    {
      "cell_type": "code",
      "source": [
        "df2.shape"
      ],
      "metadata": {
        "colab": {
          "base_uri": "https://localhost:8080/"
        },
        "id": "zLoHA8QVEDrX",
        "outputId": "666e1176-cc57-4c50-aea9-ae8f3c5aed84"
      },
      "execution_count": null,
      "outputs": [
        {
          "output_type": "execute_result",
          "data": {
            "text/plain": [
              "(395, 17)"
            ]
          },
          "metadata": {},
          "execution_count": 34
        }
      ]
    },
    {
      "cell_type": "markdown",
      "source": [
        "### **OneHotEncoder: Criação de variáveis Dummy (fictícia).**"
      ],
      "metadata": {
        "id": "CrJZj-NDJDI9"
      }
    },
    {
      "cell_type": "markdown",
      "source": [
        "A   B   C   D   \n",
        "1   0   0   0   \n",
        "0   1   0   0   \n",
        "0   0   1   0   \n",
        "0   0   0   1\n"
      ],
      "metadata": {
        "id": "GqwiEL3eJGqx"
      }
    },
    {
      "cell_type": "code",
      "source": [
        "from sklearn.preprocessing import OneHotEncoder\n",
        "from sklearn.compose import ColumnTransformer"
      ],
      "metadata": {
        "id": "EVZyORIVJKkU"
      },
      "execution_count": null,
      "outputs": []
    },
    {
      "cell_type": "code",
      "source": [
        "encoder = OneHotEncoder()\n",
        "oneHotEncoder = encoder.fit_transform(df[['sex', 'age', 'guardian', 'Dalc', 'Walc']])"
      ],
      "metadata": {
        "id": "oLnkPxiGJLRv"
      },
      "execution_count": null,
      "outputs": []
    },
    {
      "cell_type": "code",
      "source": [
        "oneHotEncoder.todense()"
      ],
      "metadata": {
        "colab": {
          "base_uri": "https://localhost:8080/"
        },
        "id": "na25SMpDJNx-",
        "outputId": "7468344b-7a43-42a2-8f88-b27d9ba08382"
      },
      "execution_count": null,
      "outputs": [
        {
          "output_type": "execute_result",
          "data": {
            "text/plain": [
              "matrix([[1., 0., 0., ..., 0., 0., 0.],\n",
              "        [1., 0., 0., ..., 0., 0., 0.],\n",
              "        [1., 0., 1., ..., 1., 0., 0.],\n",
              "        ...,\n",
              "        [0., 1., 0., ..., 1., 0., 0.],\n",
              "        [0., 1., 0., ..., 0., 1., 0.],\n",
              "        [0., 1., 0., ..., 1., 0., 0.]])"
            ]
          },
          "metadata": {},
          "execution_count": 37
        }
      ]
    },
    {
      "cell_type": "code",
      "source": [
        "oneHotEncoder.shape"
      ],
      "metadata": {
        "colab": {
          "base_uri": "https://localhost:8080/"
        },
        "id": "sf1ncwvcJOqF",
        "outputId": "75bcdbb5-e78e-430b-be17-9b7335ee151d"
      },
      "execution_count": null,
      "outputs": [
        {
          "output_type": "execute_result",
          "data": {
            "text/plain": [
              "(395, 23)"
            ]
          },
          "metadata": {},
          "execution_count": 38
        }
      ]
    },
    {
      "cell_type": "code",
      "source": [
        "nome_colunas = encoder.get_feature_names(['sex', 'age', 'guardian', 'Dalc', 'Walc'])\n",
        "df3_encoder = pd.DataFrame(oneHotEncoder.todense(), columns= nome_colunas)\n",
        "df3_encoder"
      ],
      "metadata": {
        "colab": {
          "base_uri": "https://localhost:8080/",
          "height": 424
        },
        "id": "jU1HPQYyNryk",
        "outputId": "c43b469f-9378-4b86-e5cf-9abb120ae44a"
      },
      "execution_count": null,
      "outputs": [
        {
          "output_type": "execute_result",
          "data": {
            "text/plain": [
              "     sex_F  sex_M  age_15  age_16  age_17  age_18  age_19  age_20  age_21  \\\n",
              "0      1.0    0.0     0.0     0.0     0.0     1.0     0.0     0.0     0.0   \n",
              "1      1.0    0.0     0.0     0.0     1.0     0.0     0.0     0.0     0.0   \n",
              "2      1.0    0.0     1.0     0.0     0.0     0.0     0.0     0.0     0.0   \n",
              "3      1.0    0.0     1.0     0.0     0.0     0.0     0.0     0.0     0.0   \n",
              "4      1.0    0.0     0.0     1.0     0.0     0.0     0.0     0.0     0.0   \n",
              "..     ...    ...     ...     ...     ...     ...     ...     ...     ...   \n",
              "390    0.0    1.0     0.0     0.0     0.0     0.0     0.0     1.0     0.0   \n",
              "391    0.0    1.0     0.0     0.0     1.0     0.0     0.0     0.0     0.0   \n",
              "392    0.0    1.0     0.0     0.0     0.0     0.0     0.0     0.0     1.0   \n",
              "393    0.0    1.0     0.0     0.0     0.0     1.0     0.0     0.0     0.0   \n",
              "394    0.0    1.0     0.0     0.0     0.0     0.0     1.0     0.0     0.0   \n",
              "\n",
              "     age_22  ...  Dalc_1  Dalc_2  Dalc_3  Dalc_4  Dalc_5  Walc_1  Walc_2  \\\n",
              "0       0.0  ...     1.0     0.0     0.0     0.0     0.0     1.0     0.0   \n",
              "1       0.0  ...     1.0     0.0     0.0     0.0     0.0     1.0     0.0   \n",
              "2       0.0  ...     0.0     1.0     0.0     0.0     0.0     0.0     0.0   \n",
              "3       0.0  ...     1.0     0.0     0.0     0.0     0.0     1.0     0.0   \n",
              "4       0.0  ...     1.0     0.0     0.0     0.0     0.0     0.0     1.0   \n",
              "..      ...  ...     ...     ...     ...     ...     ...     ...     ...   \n",
              "390     0.0  ...     0.0     0.0     0.0     1.0     0.0     0.0     0.0   \n",
              "391     0.0  ...     0.0     0.0     1.0     0.0     0.0     0.0     0.0   \n",
              "392     0.0  ...     0.0     0.0     1.0     0.0     0.0     0.0     0.0   \n",
              "393     0.0  ...     0.0     0.0     1.0     0.0     0.0     0.0     0.0   \n",
              "394     0.0  ...     0.0     0.0     1.0     0.0     0.0     0.0     0.0   \n",
              "\n",
              "     Walc_3  Walc_4  Walc_5  \n",
              "0       0.0     0.0     0.0  \n",
              "1       0.0     0.0     0.0  \n",
              "2       1.0     0.0     0.0  \n",
              "3       0.0     0.0     0.0  \n",
              "4       0.0     0.0     0.0  \n",
              "..      ...     ...     ...  \n",
              "390     0.0     0.0     1.0  \n",
              "391     0.0     1.0     0.0  \n",
              "392     1.0     0.0     0.0  \n",
              "393     0.0     1.0     0.0  \n",
              "394     1.0     0.0     0.0  \n",
              "\n",
              "[395 rows x 23 columns]"
            ],
            "text/html": [
              "\n",
              "  <div id=\"df-e5d49ae3-eca3-4008-a443-86b68a629dfd\">\n",
              "    <div class=\"colab-df-container\">\n",
              "      <div>\n",
              "<style scoped>\n",
              "    .dataframe tbody tr th:only-of-type {\n",
              "        vertical-align: middle;\n",
              "    }\n",
              "\n",
              "    .dataframe tbody tr th {\n",
              "        vertical-align: top;\n",
              "    }\n",
              "\n",
              "    .dataframe thead th {\n",
              "        text-align: right;\n",
              "    }\n",
              "</style>\n",
              "<table border=\"1\" class=\"dataframe\">\n",
              "  <thead>\n",
              "    <tr style=\"text-align: right;\">\n",
              "      <th></th>\n",
              "      <th>sex_F</th>\n",
              "      <th>sex_M</th>\n",
              "      <th>age_15</th>\n",
              "      <th>age_16</th>\n",
              "      <th>age_17</th>\n",
              "      <th>age_18</th>\n",
              "      <th>age_19</th>\n",
              "      <th>age_20</th>\n",
              "      <th>age_21</th>\n",
              "      <th>age_22</th>\n",
              "      <th>...</th>\n",
              "      <th>Dalc_1</th>\n",
              "      <th>Dalc_2</th>\n",
              "      <th>Dalc_3</th>\n",
              "      <th>Dalc_4</th>\n",
              "      <th>Dalc_5</th>\n",
              "      <th>Walc_1</th>\n",
              "      <th>Walc_2</th>\n",
              "      <th>Walc_3</th>\n",
              "      <th>Walc_4</th>\n",
              "      <th>Walc_5</th>\n",
              "    </tr>\n",
              "  </thead>\n",
              "  <tbody>\n",
              "    <tr>\n",
              "      <th>0</th>\n",
              "      <td>1.0</td>\n",
              "      <td>0.0</td>\n",
              "      <td>0.0</td>\n",
              "      <td>0.0</td>\n",
              "      <td>0.0</td>\n",
              "      <td>1.0</td>\n",
              "      <td>0.0</td>\n",
              "      <td>0.0</td>\n",
              "      <td>0.0</td>\n",
              "      <td>0.0</td>\n",
              "      <td>...</td>\n",
              "      <td>1.0</td>\n",
              "      <td>0.0</td>\n",
              "      <td>0.0</td>\n",
              "      <td>0.0</td>\n",
              "      <td>0.0</td>\n",
              "      <td>1.0</td>\n",
              "      <td>0.0</td>\n",
              "      <td>0.0</td>\n",
              "      <td>0.0</td>\n",
              "      <td>0.0</td>\n",
              "    </tr>\n",
              "    <tr>\n",
              "      <th>1</th>\n",
              "      <td>1.0</td>\n",
              "      <td>0.0</td>\n",
              "      <td>0.0</td>\n",
              "      <td>0.0</td>\n",
              "      <td>1.0</td>\n",
              "      <td>0.0</td>\n",
              "      <td>0.0</td>\n",
              "      <td>0.0</td>\n",
              "      <td>0.0</td>\n",
              "      <td>0.0</td>\n",
              "      <td>...</td>\n",
              "      <td>1.0</td>\n",
              "      <td>0.0</td>\n",
              "      <td>0.0</td>\n",
              "      <td>0.0</td>\n",
              "      <td>0.0</td>\n",
              "      <td>1.0</td>\n",
              "      <td>0.0</td>\n",
              "      <td>0.0</td>\n",
              "      <td>0.0</td>\n",
              "      <td>0.0</td>\n",
              "    </tr>\n",
              "    <tr>\n",
              "      <th>2</th>\n",
              "      <td>1.0</td>\n",
              "      <td>0.0</td>\n",
              "      <td>1.0</td>\n",
              "      <td>0.0</td>\n",
              "      <td>0.0</td>\n",
              "      <td>0.0</td>\n",
              "      <td>0.0</td>\n",
              "      <td>0.0</td>\n",
              "      <td>0.0</td>\n",
              "      <td>0.0</td>\n",
              "      <td>...</td>\n",
              "      <td>0.0</td>\n",
              "      <td>1.0</td>\n",
              "      <td>0.0</td>\n",
              "      <td>0.0</td>\n",
              "      <td>0.0</td>\n",
              "      <td>0.0</td>\n",
              "      <td>0.0</td>\n",
              "      <td>1.0</td>\n",
              "      <td>0.0</td>\n",
              "      <td>0.0</td>\n",
              "    </tr>\n",
              "    <tr>\n",
              "      <th>3</th>\n",
              "      <td>1.0</td>\n",
              "      <td>0.0</td>\n",
              "      <td>1.0</td>\n",
              "      <td>0.0</td>\n",
              "      <td>0.0</td>\n",
              "      <td>0.0</td>\n",
              "      <td>0.0</td>\n",
              "      <td>0.0</td>\n",
              "      <td>0.0</td>\n",
              "      <td>0.0</td>\n",
              "      <td>...</td>\n",
              "      <td>1.0</td>\n",
              "      <td>0.0</td>\n",
              "      <td>0.0</td>\n",
              "      <td>0.0</td>\n",
              "      <td>0.0</td>\n",
              "      <td>1.0</td>\n",
              "      <td>0.0</td>\n",
              "      <td>0.0</td>\n",
              "      <td>0.0</td>\n",
              "      <td>0.0</td>\n",
              "    </tr>\n",
              "    <tr>\n",
              "      <th>4</th>\n",
              "      <td>1.0</td>\n",
              "      <td>0.0</td>\n",
              "      <td>0.0</td>\n",
              "      <td>1.0</td>\n",
              "      <td>0.0</td>\n",
              "      <td>0.0</td>\n",
              "      <td>0.0</td>\n",
              "      <td>0.0</td>\n",
              "      <td>0.0</td>\n",
              "      <td>0.0</td>\n",
              "      <td>...</td>\n",
              "      <td>1.0</td>\n",
              "      <td>0.0</td>\n",
              "      <td>0.0</td>\n",
              "      <td>0.0</td>\n",
              "      <td>0.0</td>\n",
              "      <td>0.0</td>\n",
              "      <td>1.0</td>\n",
              "      <td>0.0</td>\n",
              "      <td>0.0</td>\n",
              "      <td>0.0</td>\n",
              "    </tr>\n",
              "    <tr>\n",
              "      <th>...</th>\n",
              "      <td>...</td>\n",
              "      <td>...</td>\n",
              "      <td>...</td>\n",
              "      <td>...</td>\n",
              "      <td>...</td>\n",
              "      <td>...</td>\n",
              "      <td>...</td>\n",
              "      <td>...</td>\n",
              "      <td>...</td>\n",
              "      <td>...</td>\n",
              "      <td>...</td>\n",
              "      <td>...</td>\n",
              "      <td>...</td>\n",
              "      <td>...</td>\n",
              "      <td>...</td>\n",
              "      <td>...</td>\n",
              "      <td>...</td>\n",
              "      <td>...</td>\n",
              "      <td>...</td>\n",
              "      <td>...</td>\n",
              "      <td>...</td>\n",
              "    </tr>\n",
              "    <tr>\n",
              "      <th>390</th>\n",
              "      <td>0.0</td>\n",
              "      <td>1.0</td>\n",
              "      <td>0.0</td>\n",
              "      <td>0.0</td>\n",
              "      <td>0.0</td>\n",
              "      <td>0.0</td>\n",
              "      <td>0.0</td>\n",
              "      <td>1.0</td>\n",
              "      <td>0.0</td>\n",
              "      <td>0.0</td>\n",
              "      <td>...</td>\n",
              "      <td>0.0</td>\n",
              "      <td>0.0</td>\n",
              "      <td>0.0</td>\n",
              "      <td>1.0</td>\n",
              "      <td>0.0</td>\n",
              "      <td>0.0</td>\n",
              "      <td>0.0</td>\n",
              "      <td>0.0</td>\n",
              "      <td>0.0</td>\n",
              "      <td>1.0</td>\n",
              "    </tr>\n",
              "    <tr>\n",
              "      <th>391</th>\n",
              "      <td>0.0</td>\n",
              "      <td>1.0</td>\n",
              "      <td>0.0</td>\n",
              "      <td>0.0</td>\n",
              "      <td>1.0</td>\n",
              "      <td>0.0</td>\n",
              "      <td>0.0</td>\n",
              "      <td>0.0</td>\n",
              "      <td>0.0</td>\n",
              "      <td>0.0</td>\n",
              "      <td>...</td>\n",
              "      <td>0.0</td>\n",
              "      <td>0.0</td>\n",
              "      <td>1.0</td>\n",
              "      <td>0.0</td>\n",
              "      <td>0.0</td>\n",
              "      <td>0.0</td>\n",
              "      <td>0.0</td>\n",
              "      <td>0.0</td>\n",
              "      <td>1.0</td>\n",
              "      <td>0.0</td>\n",
              "    </tr>\n",
              "    <tr>\n",
              "      <th>392</th>\n",
              "      <td>0.0</td>\n",
              "      <td>1.0</td>\n",
              "      <td>0.0</td>\n",
              "      <td>0.0</td>\n",
              "      <td>0.0</td>\n",
              "      <td>0.0</td>\n",
              "      <td>0.0</td>\n",
              "      <td>0.0</td>\n",
              "      <td>1.0</td>\n",
              "      <td>0.0</td>\n",
              "      <td>...</td>\n",
              "      <td>0.0</td>\n",
              "      <td>0.0</td>\n",
              "      <td>1.0</td>\n",
              "      <td>0.0</td>\n",
              "      <td>0.0</td>\n",
              "      <td>0.0</td>\n",
              "      <td>0.0</td>\n",
              "      <td>1.0</td>\n",
              "      <td>0.0</td>\n",
              "      <td>0.0</td>\n",
              "    </tr>\n",
              "    <tr>\n",
              "      <th>393</th>\n",
              "      <td>0.0</td>\n",
              "      <td>1.0</td>\n",
              "      <td>0.0</td>\n",
              "      <td>0.0</td>\n",
              "      <td>0.0</td>\n",
              "      <td>1.0</td>\n",
              "      <td>0.0</td>\n",
              "      <td>0.0</td>\n",
              "      <td>0.0</td>\n",
              "      <td>0.0</td>\n",
              "      <td>...</td>\n",
              "      <td>0.0</td>\n",
              "      <td>0.0</td>\n",
              "      <td>1.0</td>\n",
              "      <td>0.0</td>\n",
              "      <td>0.0</td>\n",
              "      <td>0.0</td>\n",
              "      <td>0.0</td>\n",
              "      <td>0.0</td>\n",
              "      <td>1.0</td>\n",
              "      <td>0.0</td>\n",
              "    </tr>\n",
              "    <tr>\n",
              "      <th>394</th>\n",
              "      <td>0.0</td>\n",
              "      <td>1.0</td>\n",
              "      <td>0.0</td>\n",
              "      <td>0.0</td>\n",
              "      <td>0.0</td>\n",
              "      <td>0.0</td>\n",
              "      <td>1.0</td>\n",
              "      <td>0.0</td>\n",
              "      <td>0.0</td>\n",
              "      <td>0.0</td>\n",
              "      <td>...</td>\n",
              "      <td>0.0</td>\n",
              "      <td>0.0</td>\n",
              "      <td>1.0</td>\n",
              "      <td>0.0</td>\n",
              "      <td>0.0</td>\n",
              "      <td>0.0</td>\n",
              "      <td>0.0</td>\n",
              "      <td>1.0</td>\n",
              "      <td>0.0</td>\n",
              "      <td>0.0</td>\n",
              "    </tr>\n",
              "  </tbody>\n",
              "</table>\n",
              "<p>395 rows × 23 columns</p>\n",
              "</div>\n",
              "      <button class=\"colab-df-convert\" onclick=\"convertToInteractive('df-e5d49ae3-eca3-4008-a443-86b68a629dfd')\"\n",
              "              title=\"Convert this dataframe to an interactive table.\"\n",
              "              style=\"display:none;\">\n",
              "        \n",
              "  <svg xmlns=\"http://www.w3.org/2000/svg\" height=\"24px\"viewBox=\"0 0 24 24\"\n",
              "       width=\"24px\">\n",
              "    <path d=\"M0 0h24v24H0V0z\" fill=\"none\"/>\n",
              "    <path d=\"M18.56 5.44l.94 2.06.94-2.06 2.06-.94-2.06-.94-.94-2.06-.94 2.06-2.06.94zm-11 1L8.5 8.5l.94-2.06 2.06-.94-2.06-.94L8.5 2.5l-.94 2.06-2.06.94zm10 10l.94 2.06.94-2.06 2.06-.94-2.06-.94-.94-2.06-.94 2.06-2.06.94z\"/><path d=\"M17.41 7.96l-1.37-1.37c-.4-.4-.92-.59-1.43-.59-.52 0-1.04.2-1.43.59L10.3 9.45l-7.72 7.72c-.78.78-.78 2.05 0 2.83L4 21.41c.39.39.9.59 1.41.59.51 0 1.02-.2 1.41-.59l7.78-7.78 2.81-2.81c.8-.78.8-2.07 0-2.86zM5.41 20L4 18.59l7.72-7.72 1.47 1.35L5.41 20z\"/>\n",
              "  </svg>\n",
              "      </button>\n",
              "      \n",
              "  <style>\n",
              "    .colab-df-container {\n",
              "      display:flex;\n",
              "      flex-wrap:wrap;\n",
              "      gap: 12px;\n",
              "    }\n",
              "\n",
              "    .colab-df-convert {\n",
              "      background-color: #E8F0FE;\n",
              "      border: none;\n",
              "      border-radius: 50%;\n",
              "      cursor: pointer;\n",
              "      display: none;\n",
              "      fill: #1967D2;\n",
              "      height: 32px;\n",
              "      padding: 0 0 0 0;\n",
              "      width: 32px;\n",
              "    }\n",
              "\n",
              "    .colab-df-convert:hover {\n",
              "      background-color: #E2EBFA;\n",
              "      box-shadow: 0px 1px 2px rgba(60, 64, 67, 0.3), 0px 1px 3px 1px rgba(60, 64, 67, 0.15);\n",
              "      fill: #174EA6;\n",
              "    }\n",
              "\n",
              "    [theme=dark] .colab-df-convert {\n",
              "      background-color: #3B4455;\n",
              "      fill: #D2E3FC;\n",
              "    }\n",
              "\n",
              "    [theme=dark] .colab-df-convert:hover {\n",
              "      background-color: #434B5C;\n",
              "      box-shadow: 0px 1px 3px 1px rgba(0, 0, 0, 0.15);\n",
              "      filter: drop-shadow(0px 1px 2px rgba(0, 0, 0, 0.3));\n",
              "      fill: #FFFFFF;\n",
              "    }\n",
              "  </style>\n",
              "\n",
              "      <script>\n",
              "        const buttonEl =\n",
              "          document.querySelector('#df-e5d49ae3-eca3-4008-a443-86b68a629dfd button.colab-df-convert');\n",
              "        buttonEl.style.display =\n",
              "          google.colab.kernel.accessAllowed ? 'block' : 'none';\n",
              "\n",
              "        async function convertToInteractive(key) {\n",
              "          const element = document.querySelector('#df-e5d49ae3-eca3-4008-a443-86b68a629dfd');\n",
              "          const dataTable =\n",
              "            await google.colab.kernel.invokeFunction('convertToInteractive',\n",
              "                                                     [key], {});\n",
              "          if (!dataTable) return;\n",
              "\n",
              "          const docLinkHtml = 'Like what you see? Visit the ' +\n",
              "            '<a target=\"_blank\" href=https://colab.research.google.com/notebooks/data_table.ipynb>data table notebook</a>'\n",
              "            + ' to learn more about interactive tables.';\n",
              "          element.innerHTML = '';\n",
              "          dataTable['output_type'] = 'display_data';\n",
              "          await google.colab.output.renderOutput(dataTable, element);\n",
              "          const docLink = document.createElement('div');\n",
              "          docLink.innerHTML = docLinkHtml;\n",
              "          element.appendChild(docLink);\n",
              "        }\n",
              "      </script>\n",
              "    </div>\n",
              "  </div>\n",
              "  "
            ]
          },
          "metadata": {},
          "execution_count": 39
        }
      ]
    },
    {
      "cell_type": "code",
      "source": [
        "df3 = pd.concat([df, df3_encoder], axis=1).drop(['sex', 'age', 'guardian', 'Dalc', 'Walc'], axis=1)\n",
        "df3.info()"
      ],
      "metadata": {
        "colab": {
          "base_uri": "https://localhost:8080/"
        },
        "id": "JafVEChEPs3S",
        "outputId": "f2ba708d-e8e5-46fd-e2a6-3acd41e2b3a9"
      },
      "execution_count": null,
      "outputs": [
        {
          "output_type": "stream",
          "name": "stdout",
          "text": [
            "<class 'pandas.core.frame.DataFrame'>\n",
            "RangeIndex: 395 entries, 0 to 394\n",
            "Data columns (total 35 columns):\n",
            " #   Column           Non-Null Count  Dtype  \n",
            "---  ------           --------------  -----  \n",
            " 0   address          395 non-null    object \n",
            " 1   Pstatus          395 non-null    object \n",
            " 2   studytime        395 non-null    int64  \n",
            " 3   failures         395 non-null    int64  \n",
            " 4   famsup           395 non-null    object \n",
            " 5   activities       395 non-null    object \n",
            " 6   higher           395 non-null    object \n",
            " 7   internet         395 non-null    object \n",
            " 8   romantic         395 non-null    object \n",
            " 9   famrel           395 non-null    int64  \n",
            " 10  goout            395 non-null    int64  \n",
            " 11  health           395 non-null    int64  \n",
            " 12  sex_F            395 non-null    float64\n",
            " 13  sex_M            395 non-null    float64\n",
            " 14  age_15           395 non-null    float64\n",
            " 15  age_16           395 non-null    float64\n",
            " 16  age_17           395 non-null    float64\n",
            " 17  age_18           395 non-null    float64\n",
            " 18  age_19           395 non-null    float64\n",
            " 19  age_20           395 non-null    float64\n",
            " 20  age_21           395 non-null    float64\n",
            " 21  age_22           395 non-null    float64\n",
            " 22  guardian_father  395 non-null    float64\n",
            " 23  guardian_mother  395 non-null    float64\n",
            " 24  guardian_other   395 non-null    float64\n",
            " 25  Dalc_1           395 non-null    float64\n",
            " 26  Dalc_2           395 non-null    float64\n",
            " 27  Dalc_3           395 non-null    float64\n",
            " 28  Dalc_4           395 non-null    float64\n",
            " 29  Dalc_5           395 non-null    float64\n",
            " 30  Walc_1           395 non-null    float64\n",
            " 31  Walc_2           395 non-null    float64\n",
            " 32  Walc_3           395 non-null    float64\n",
            " 33  Walc_4           395 non-null    float64\n",
            " 34  Walc_5           395 non-null    float64\n",
            "dtypes: float64(23), int64(5), object(7)\n",
            "memory usage: 108.1+ KB\n"
          ]
        }
      ]
    },
    {
      "cell_type": "markdown",
      "source": [
        "## **LEGENDA**"
      ],
      "metadata": {
        "id": "YGaiyP1cEoki"
      }
    },
    {
      "cell_type": "markdown",
      "source": [
        "**sex** = Sexo dos estudantes (0 =F = feminino, 1 = M = masculino)\n",
        "\n",
        "**age** = Idade dos estudantes (15 a 22 anos)\n",
        "\n",
        "**address** = Tipo de endereço do estudantes (0 = U = Urbano, 1 = R = Rural)\n",
        "\n",
        "**Pstatus** = Estado de coabitação dos pais (0 = T = Juntos, 1 = A = separados)\n",
        "\n",
        "**guardian** = Guardião legal do estudante (0 = mother(mãe), 1 = father(pai), 2 = other(outros))\n",
        "\n",
        "**studytime** = Tempo estudado por semana (1 = <2 hours, 2 = 2 a 5 horas, 3 = 5 a 10 horas, 4 = >10 horas)\n",
        "\n",
        "**failures** = Número de reprovações anteriores (n se 1<=n<3, senão 4)\n",
        "\n",
        "**famsup** = Apoio educacional familiar (0 = yes(sim), 1 = no(não))\n",
        "\n",
        "**activities** = Atividades extracurriculares (0 = yes(sim), 1 = no(não))\n",
        "\n",
        "**higher** = Quer cursar o ensino superior (0 = yes(sim), 1 = no(não))\n",
        "\n",
        "**internet** = Acesso internet em casa (0 = yes(sim), 1 = no(não))\n",
        "\n",
        "**romantic** = Com um relacionamento amoroso (0 = yes(sim), 1 = no(não))\n",
        "\n",
        "**famrel** = Qualidade das relações familiares (1 = muito ruim a 5 = excelente)\n",
        "\n",
        "**goout** = Sair com amigos (1 = muito baixo a 5 = muito alto)\n",
        "\n",
        "**Dalc** = Consumo de álcool no dia de trabalho (1 = muito baixo a 5 = muito alto)\n",
        "\n",
        "**Walc** = consumo de álcool no final de semana (1 = muito baixo a 5 = muito alto)\n",
        "\n",
        "**health** = estado de saúde atual (1 = muito ruim a 5 = muito bom)"
      ],
      "metadata": {
        "id": "ogVcpTKFEseO"
      }
    },
    {
      "cell_type": "markdown",
      "source": [
        "## **ATRIBUTOS PREVISORES E ALVO**"
      ],
      "metadata": {
        "id": "7ACYpiwtEui3"
      }
    },
    {
      "cell_type": "code",
      "source": [
        "df2.head()"
      ],
      "metadata": {
        "colab": {
          "base_uri": "https://localhost:8080/",
          "height": 206
        },
        "id": "XjU-YjRxEu-e",
        "outputId": "f04905ef-9cad-4659-e9cb-41f17c85c34b"
      },
      "execution_count": null,
      "outputs": [
        {
          "output_type": "execute_result",
          "data": {
            "text/plain": [
              "   sex  age  address  Pstatus  guardian  studytime  failures  famsup  \\\n",
              "0    0   18        0        0         0          2         0       0   \n",
              "1    0   17        0        1         1          2         0       1   \n",
              "2    0   15        0        1         0          2         3       0   \n",
              "3    0   15        0        1         0          3         0       1   \n",
              "4    0   16        0        1         1          2         0       1   \n",
              "\n",
              "   activities  higher  internet  romantic  famrel  goout  Dalc  Walc  health  \n",
              "0           0       0         0         0       4      4     1     1       3  \n",
              "1           0       0         1         0       5      3     1     1       3  \n",
              "2           0       0         1         0       4      2     2     3       3  \n",
              "3           1       0         1         1       3      2     1     1       5  \n",
              "4           0       0         0         0       4      2     1     2       5  "
            ],
            "text/html": [
              "\n",
              "  <div id=\"df-b6b2b706-f972-46b8-9fcd-bfba6f4d6b19\">\n",
              "    <div class=\"colab-df-container\">\n",
              "      <div>\n",
              "<style scoped>\n",
              "    .dataframe tbody tr th:only-of-type {\n",
              "        vertical-align: middle;\n",
              "    }\n",
              "\n",
              "    .dataframe tbody tr th {\n",
              "        vertical-align: top;\n",
              "    }\n",
              "\n",
              "    .dataframe thead th {\n",
              "        text-align: right;\n",
              "    }\n",
              "</style>\n",
              "<table border=\"1\" class=\"dataframe\">\n",
              "  <thead>\n",
              "    <tr style=\"text-align: right;\">\n",
              "      <th></th>\n",
              "      <th>sex</th>\n",
              "      <th>age</th>\n",
              "      <th>address</th>\n",
              "      <th>Pstatus</th>\n",
              "      <th>guardian</th>\n",
              "      <th>studytime</th>\n",
              "      <th>failures</th>\n",
              "      <th>famsup</th>\n",
              "      <th>activities</th>\n",
              "      <th>higher</th>\n",
              "      <th>internet</th>\n",
              "      <th>romantic</th>\n",
              "      <th>famrel</th>\n",
              "      <th>goout</th>\n",
              "      <th>Dalc</th>\n",
              "      <th>Walc</th>\n",
              "      <th>health</th>\n",
              "    </tr>\n",
              "  </thead>\n",
              "  <tbody>\n",
              "    <tr>\n",
              "      <th>0</th>\n",
              "      <td>0</td>\n",
              "      <td>18</td>\n",
              "      <td>0</td>\n",
              "      <td>0</td>\n",
              "      <td>0</td>\n",
              "      <td>2</td>\n",
              "      <td>0</td>\n",
              "      <td>0</td>\n",
              "      <td>0</td>\n",
              "      <td>0</td>\n",
              "      <td>0</td>\n",
              "      <td>0</td>\n",
              "      <td>4</td>\n",
              "      <td>4</td>\n",
              "      <td>1</td>\n",
              "      <td>1</td>\n",
              "      <td>3</td>\n",
              "    </tr>\n",
              "    <tr>\n",
              "      <th>1</th>\n",
              "      <td>0</td>\n",
              "      <td>17</td>\n",
              "      <td>0</td>\n",
              "      <td>1</td>\n",
              "      <td>1</td>\n",
              "      <td>2</td>\n",
              "      <td>0</td>\n",
              "      <td>1</td>\n",
              "      <td>0</td>\n",
              "      <td>0</td>\n",
              "      <td>1</td>\n",
              "      <td>0</td>\n",
              "      <td>5</td>\n",
              "      <td>3</td>\n",
              "      <td>1</td>\n",
              "      <td>1</td>\n",
              "      <td>3</td>\n",
              "    </tr>\n",
              "    <tr>\n",
              "      <th>2</th>\n",
              "      <td>0</td>\n",
              "      <td>15</td>\n",
              "      <td>0</td>\n",
              "      <td>1</td>\n",
              "      <td>0</td>\n",
              "      <td>2</td>\n",
              "      <td>3</td>\n",
              "      <td>0</td>\n",
              "      <td>0</td>\n",
              "      <td>0</td>\n",
              "      <td>1</td>\n",
              "      <td>0</td>\n",
              "      <td>4</td>\n",
              "      <td>2</td>\n",
              "      <td>2</td>\n",
              "      <td>3</td>\n",
              "      <td>3</td>\n",
              "    </tr>\n",
              "    <tr>\n",
              "      <th>3</th>\n",
              "      <td>0</td>\n",
              "      <td>15</td>\n",
              "      <td>0</td>\n",
              "      <td>1</td>\n",
              "      <td>0</td>\n",
              "      <td>3</td>\n",
              "      <td>0</td>\n",
              "      <td>1</td>\n",
              "      <td>1</td>\n",
              "      <td>0</td>\n",
              "      <td>1</td>\n",
              "      <td>1</td>\n",
              "      <td>3</td>\n",
              "      <td>2</td>\n",
              "      <td>1</td>\n",
              "      <td>1</td>\n",
              "      <td>5</td>\n",
              "    </tr>\n",
              "    <tr>\n",
              "      <th>4</th>\n",
              "      <td>0</td>\n",
              "      <td>16</td>\n",
              "      <td>0</td>\n",
              "      <td>1</td>\n",
              "      <td>1</td>\n",
              "      <td>2</td>\n",
              "      <td>0</td>\n",
              "      <td>1</td>\n",
              "      <td>0</td>\n",
              "      <td>0</td>\n",
              "      <td>0</td>\n",
              "      <td>0</td>\n",
              "      <td>4</td>\n",
              "      <td>2</td>\n",
              "      <td>1</td>\n",
              "      <td>2</td>\n",
              "      <td>5</td>\n",
              "    </tr>\n",
              "  </tbody>\n",
              "</table>\n",
              "</div>\n",
              "      <button class=\"colab-df-convert\" onclick=\"convertToInteractive('df-b6b2b706-f972-46b8-9fcd-bfba6f4d6b19')\"\n",
              "              title=\"Convert this dataframe to an interactive table.\"\n",
              "              style=\"display:none;\">\n",
              "        \n",
              "  <svg xmlns=\"http://www.w3.org/2000/svg\" height=\"24px\"viewBox=\"0 0 24 24\"\n",
              "       width=\"24px\">\n",
              "    <path d=\"M0 0h24v24H0V0z\" fill=\"none\"/>\n",
              "    <path d=\"M18.56 5.44l.94 2.06.94-2.06 2.06-.94-2.06-.94-.94-2.06-.94 2.06-2.06.94zm-11 1L8.5 8.5l.94-2.06 2.06-.94-2.06-.94L8.5 2.5l-.94 2.06-2.06.94zm10 10l.94 2.06.94-2.06 2.06-.94-2.06-.94-.94-2.06-.94 2.06-2.06.94z\"/><path d=\"M17.41 7.96l-1.37-1.37c-.4-.4-.92-.59-1.43-.59-.52 0-1.04.2-1.43.59L10.3 9.45l-7.72 7.72c-.78.78-.78 2.05 0 2.83L4 21.41c.39.39.9.59 1.41.59.51 0 1.02-.2 1.41-.59l7.78-7.78 2.81-2.81c.8-.78.8-2.07 0-2.86zM5.41 20L4 18.59l7.72-7.72 1.47 1.35L5.41 20z\"/>\n",
              "  </svg>\n",
              "      </button>\n",
              "      \n",
              "  <style>\n",
              "    .colab-df-container {\n",
              "      display:flex;\n",
              "      flex-wrap:wrap;\n",
              "      gap: 12px;\n",
              "    }\n",
              "\n",
              "    .colab-df-convert {\n",
              "      background-color: #E8F0FE;\n",
              "      border: none;\n",
              "      border-radius: 50%;\n",
              "      cursor: pointer;\n",
              "      display: none;\n",
              "      fill: #1967D2;\n",
              "      height: 32px;\n",
              "      padding: 0 0 0 0;\n",
              "      width: 32px;\n",
              "    }\n",
              "\n",
              "    .colab-df-convert:hover {\n",
              "      background-color: #E2EBFA;\n",
              "      box-shadow: 0px 1px 2px rgba(60, 64, 67, 0.3), 0px 1px 3px 1px rgba(60, 64, 67, 0.15);\n",
              "      fill: #174EA6;\n",
              "    }\n",
              "\n",
              "    [theme=dark] .colab-df-convert {\n",
              "      background-color: #3B4455;\n",
              "      fill: #D2E3FC;\n",
              "    }\n",
              "\n",
              "    [theme=dark] .colab-df-convert:hover {\n",
              "      background-color: #434B5C;\n",
              "      box-shadow: 0px 1px 3px 1px rgba(0, 0, 0, 0.15);\n",
              "      filter: drop-shadow(0px 1px 2px rgba(0, 0, 0, 0.3));\n",
              "      fill: #FFFFFF;\n",
              "    }\n",
              "  </style>\n",
              "\n",
              "      <script>\n",
              "        const buttonEl =\n",
              "          document.querySelector('#df-b6b2b706-f972-46b8-9fcd-bfba6f4d6b19 button.colab-df-convert');\n",
              "        buttonEl.style.display =\n",
              "          google.colab.kernel.accessAllowed ? 'block' : 'none';\n",
              "\n",
              "        async function convertToInteractive(key) {\n",
              "          const element = document.querySelector('#df-b6b2b706-f972-46b8-9fcd-bfba6f4d6b19');\n",
              "          const dataTable =\n",
              "            await google.colab.kernel.invokeFunction('convertToInteractive',\n",
              "                                                     [key], {});\n",
              "          if (!dataTable) return;\n",
              "\n",
              "          const docLinkHtml = 'Like what you see? Visit the ' +\n",
              "            '<a target=\"_blank\" href=https://colab.research.google.com/notebooks/data_table.ipynb>data table notebook</a>'\n",
              "            + ' to learn more about interactive tables.';\n",
              "          element.innerHTML = '';\n",
              "          dataTable['output_type'] = 'display_data';\n",
              "          await google.colab.output.renderOutput(dataTable, element);\n",
              "          const docLink = document.createElement('div');\n",
              "          docLink.innerHTML = docLinkHtml;\n",
              "          element.appendChild(docLink);\n",
              "        }\n",
              "      </script>\n",
              "    </div>\n",
              "  </div>\n",
              "  "
            ]
          },
          "metadata": {},
          "execution_count": 41
        }
      ]
    },
    {
      "cell_type": "code",
      "source": [
        "previsores = df2.iloc[:, 0:17].values"
      ],
      "metadata": {
        "id": "o8npbZRoExeH"
      },
      "execution_count": null,
      "outputs": []
    },
    {
      "cell_type": "code",
      "source": [
        "previsores"
      ],
      "metadata": {
        "colab": {
          "base_uri": "https://localhost:8080/"
        },
        "id": "WHcuF6yTEybm",
        "outputId": "cd0aca43-d96b-4f98-8ddd-9679c84bf7e3"
      },
      "execution_count": null,
      "outputs": [
        {
          "output_type": "execute_result",
          "data": {
            "text/plain": [
              "array([[ 0, 18,  0, ...,  1,  1,  3],\n",
              "       [ 0, 17,  0, ...,  1,  1,  3],\n",
              "       [ 0, 15,  0, ...,  2,  3,  3],\n",
              "       ...,\n",
              "       [ 1, 21,  1, ...,  3,  3,  3],\n",
              "       [ 1, 18,  1, ...,  3,  4,  5],\n",
              "       [ 1, 19,  0, ...,  3,  3,  5]])"
            ]
          },
          "metadata": {},
          "execution_count": 43
        }
      ]
    },
    {
      "cell_type": "code",
      "source": [
        "previsores.shape"
      ],
      "metadata": {
        "colab": {
          "base_uri": "https://localhost:8080/"
        },
        "id": "kvJBNF8jEzXH",
        "outputId": "a2111c5b-6055-4617-ccd6-48c37d23764a"
      },
      "execution_count": null,
      "outputs": [
        {
          "output_type": "execute_result",
          "data": {
            "text/plain": [
              "(395, 17)"
            ]
          },
          "metadata": {},
          "execution_count": 44
        }
      ]
    },
    {
      "cell_type": "code",
      "source": [
        "alvo = df2.iloc[:, 16].values"
      ],
      "metadata": {
        "id": "To4Ic1O-E0PW"
      },
      "execution_count": null,
      "outputs": []
    },
    {
      "cell_type": "code",
      "source": [
        "alvo"
      ],
      "metadata": {
        "colab": {
          "base_uri": "https://localhost:8080/"
        },
        "id": "cNwTkjZwE1cH",
        "outputId": "5f5c22e8-3e01-4298-fa95-a7093a41b33b"
      },
      "execution_count": null,
      "outputs": [
        {
          "output_type": "execute_result",
          "data": {
            "text/plain": [
              "array([3, 3, 3, 5, 5, 5, 3, 1, 1, 5, 2, 4, 5, 3, 3, 2, 2, 4, 5, 5, 1, 5,\n",
              "       5, 5, 5, 5, 5, 1, 5, 5, 5, 5, 5, 2, 5, 5, 4, 5, 5, 2, 3, 5, 5, 1,\n",
              "       5, 5, 3, 2, 5, 3, 4, 5, 5, 5, 1, 2, 1, 5, 5, 5, 4, 5, 1, 4, 2, 1,\n",
              "       3, 5, 4, 3, 5, 3, 5, 5, 5, 5, 1, 3, 3, 3, 3, 5, 5, 4, 4, 5, 2, 1,\n",
              "       3, 5, 4, 1, 2, 1, 4, 1, 4, 5, 1, 3, 4, 4, 5, 2, 1, 4, 3, 5, 1, 4,\n",
              "       4, 2, 5, 3, 5, 5, 2, 5, 5, 4, 1, 5, 5, 5, 5, 5, 1, 5, 4, 4, 5, 4,\n",
              "       5, 5, 5, 5, 5, 5, 5, 5, 3, 2, 5, 1, 5, 5, 3, 5, 5, 5, 4, 5, 3, 4,\n",
              "       4, 1, 5, 4, 3, 5, 5, 3, 5, 2, 5, 2, 4, 3, 4, 3, 2, 3, 5, 3, 4, 4,\n",
              "       5, 4, 3, 2, 3, 3, 5, 1, 1, 4, 3, 5, 3, 3, 2, 3, 5, 5, 3, 5, 5, 3,\n",
              "       2, 3, 2, 4, 1, 3, 5, 5, 4, 1, 5, 4, 3, 3, 4, 5, 3, 1, 1, 4, 3, 4,\n",
              "       5, 5, 3, 4, 5, 4, 3, 3, 3, 3, 3, 1, 2, 1, 5, 2, 4, 5, 3, 2, 5, 4,\n",
              "       3, 5, 3, 4, 2, 1, 5, 5, 5, 2, 5, 3, 5, 5, 4, 1, 4, 2, 2, 3, 3, 4,\n",
              "       3, 1, 5, 4, 5, 3, 5, 2, 3, 1, 1, 5, 5, 3, 4, 1, 5, 3, 3, 4, 5, 4,\n",
              "       2, 3, 2, 2, 5, 3, 5, 3, 4, 5, 2, 2, 3, 1, 4, 5, 3, 5, 3, 3, 5, 4,\n",
              "       5, 3, 3, 2, 4, 1, 3, 3, 1, 5, 5, 5, 5, 3, 3, 5, 2, 3, 5, 4, 4, 4,\n",
              "       5, 5, 4, 2, 4, 5, 5, 2, 1, 2, 3, 2, 5, 4, 3, 1, 4, 5, 4, 5, 2, 3,\n",
              "       3, 5, 2, 5, 5, 5, 3, 4, 5, 5, 3, 1, 3, 3, 5, 1, 4, 5, 3, 3, 3, 1,\n",
              "       1, 4, 3, 2, 1, 1, 2, 5, 3, 5, 3, 4, 5, 5, 1, 5, 4, 2, 3, 5, 5])"
            ]
          },
          "metadata": {},
          "execution_count": 46
        }
      ]
    },
    {
      "cell_type": "code",
      "source": [
        "alvo.shape"
      ],
      "metadata": {
        "colab": {
          "base_uri": "https://localhost:8080/"
        },
        "id": "jlxLXnpNE2kH",
        "outputId": "2c6df60c-ea15-4512-aa50-97a47295b457"
      },
      "execution_count": null,
      "outputs": [
        {
          "output_type": "execute_result",
          "data": {
            "text/plain": [
              "(395,)"
            ]
          },
          "metadata": {},
          "execution_count": 47
        }
      ]
    },
    {
      "cell_type": "markdown",
      "source": [
        "## **Análise das escalas dos atributos (Escalonamento)**"
      ],
      "metadata": {
        "id": "c2fIynxIE4Gm"
      }
    },
    {
      "cell_type": "markdown",
      "source": [
        "Padronização (utiliza a média e o desvio padrão como referência)."
      ],
      "metadata": {
        "id": "xDk3TfLoE5b_"
      }
    },
    {
      "cell_type": "code",
      "source": [
        "df2.describe()"
      ],
      "metadata": {
        "colab": {
          "base_uri": "https://localhost:8080/",
          "height": 300
        },
        "id": "N0iQtsR7E6Uf",
        "outputId": "f520ffae-991c-439a-e8bb-8d362a83fc7a"
      },
      "execution_count": null,
      "outputs": [
        {
          "output_type": "execute_result",
          "data": {
            "text/plain": [
              "              sex         age     address     Pstatus    guardian   studytime  \\\n",
              "count  395.000000  395.000000  395.000000  395.000000  395.000000  395.000000   \n",
              "mean     0.473418   16.696203    0.222785    0.896203    0.389873    2.035443   \n",
              "std      0.499926    1.276043    0.416643    0.305384    0.633176    0.839240   \n",
              "min      0.000000   15.000000    0.000000    0.000000    0.000000    1.000000   \n",
              "25%      0.000000   16.000000    0.000000    1.000000    0.000000    1.000000   \n",
              "50%      0.000000   17.000000    0.000000    1.000000    0.000000    2.000000   \n",
              "75%      1.000000   18.000000    0.000000    1.000000    1.000000    2.000000   \n",
              "max      1.000000   22.000000    1.000000    1.000000    2.000000    4.000000   \n",
              "\n",
              "         failures      famsup  activities      higher    internet    romantic  \\\n",
              "count  395.000000  395.000000  395.000000  395.000000  395.000000  395.000000   \n",
              "mean     0.334177    0.612658    0.508861    0.050633    0.832911    0.334177   \n",
              "std      0.743651    0.487761    0.500555    0.219525    0.373528    0.472300   \n",
              "min      0.000000    0.000000    0.000000    0.000000    0.000000    0.000000   \n",
              "25%      0.000000    0.000000    0.000000    0.000000    1.000000    0.000000   \n",
              "50%      0.000000    1.000000    1.000000    0.000000    1.000000    0.000000   \n",
              "75%      0.000000    1.000000    1.000000    0.000000    1.000000    1.000000   \n",
              "max      3.000000    1.000000    1.000000    1.000000    1.000000    1.000000   \n",
              "\n",
              "           famrel       goout        Dalc        Walc      health  \n",
              "count  395.000000  395.000000  395.000000  395.000000  395.000000  \n",
              "mean     3.944304    3.108861    1.481013    2.291139    3.554430  \n",
              "std      0.896659    1.113278    0.890741    1.287897    1.390303  \n",
              "min      1.000000    1.000000    1.000000    1.000000    1.000000  \n",
              "25%      4.000000    2.000000    1.000000    1.000000    3.000000  \n",
              "50%      4.000000    3.000000    1.000000    2.000000    4.000000  \n",
              "75%      5.000000    4.000000    2.000000    3.000000    5.000000  \n",
              "max      5.000000    5.000000    5.000000    5.000000    5.000000  "
            ],
            "text/html": [
              "\n",
              "  <div id=\"df-af20efac-4f06-43a4-8fa0-d917bba2ebc3\">\n",
              "    <div class=\"colab-df-container\">\n",
              "      <div>\n",
              "<style scoped>\n",
              "    .dataframe tbody tr th:only-of-type {\n",
              "        vertical-align: middle;\n",
              "    }\n",
              "\n",
              "    .dataframe tbody tr th {\n",
              "        vertical-align: top;\n",
              "    }\n",
              "\n",
              "    .dataframe thead th {\n",
              "        text-align: right;\n",
              "    }\n",
              "</style>\n",
              "<table border=\"1\" class=\"dataframe\">\n",
              "  <thead>\n",
              "    <tr style=\"text-align: right;\">\n",
              "      <th></th>\n",
              "      <th>sex</th>\n",
              "      <th>age</th>\n",
              "      <th>address</th>\n",
              "      <th>Pstatus</th>\n",
              "      <th>guardian</th>\n",
              "      <th>studytime</th>\n",
              "      <th>failures</th>\n",
              "      <th>famsup</th>\n",
              "      <th>activities</th>\n",
              "      <th>higher</th>\n",
              "      <th>internet</th>\n",
              "      <th>romantic</th>\n",
              "      <th>famrel</th>\n",
              "      <th>goout</th>\n",
              "      <th>Dalc</th>\n",
              "      <th>Walc</th>\n",
              "      <th>health</th>\n",
              "    </tr>\n",
              "  </thead>\n",
              "  <tbody>\n",
              "    <tr>\n",
              "      <th>count</th>\n",
              "      <td>395.000000</td>\n",
              "      <td>395.000000</td>\n",
              "      <td>395.000000</td>\n",
              "      <td>395.000000</td>\n",
              "      <td>395.000000</td>\n",
              "      <td>395.000000</td>\n",
              "      <td>395.000000</td>\n",
              "      <td>395.000000</td>\n",
              "      <td>395.000000</td>\n",
              "      <td>395.000000</td>\n",
              "      <td>395.000000</td>\n",
              "      <td>395.000000</td>\n",
              "      <td>395.000000</td>\n",
              "      <td>395.000000</td>\n",
              "      <td>395.000000</td>\n",
              "      <td>395.000000</td>\n",
              "      <td>395.000000</td>\n",
              "    </tr>\n",
              "    <tr>\n",
              "      <th>mean</th>\n",
              "      <td>0.473418</td>\n",
              "      <td>16.696203</td>\n",
              "      <td>0.222785</td>\n",
              "      <td>0.896203</td>\n",
              "      <td>0.389873</td>\n",
              "      <td>2.035443</td>\n",
              "      <td>0.334177</td>\n",
              "      <td>0.612658</td>\n",
              "      <td>0.508861</td>\n",
              "      <td>0.050633</td>\n",
              "      <td>0.832911</td>\n",
              "      <td>0.334177</td>\n",
              "      <td>3.944304</td>\n",
              "      <td>3.108861</td>\n",
              "      <td>1.481013</td>\n",
              "      <td>2.291139</td>\n",
              "      <td>3.554430</td>\n",
              "    </tr>\n",
              "    <tr>\n",
              "      <th>std</th>\n",
              "      <td>0.499926</td>\n",
              "      <td>1.276043</td>\n",
              "      <td>0.416643</td>\n",
              "      <td>0.305384</td>\n",
              "      <td>0.633176</td>\n",
              "      <td>0.839240</td>\n",
              "      <td>0.743651</td>\n",
              "      <td>0.487761</td>\n",
              "      <td>0.500555</td>\n",
              "      <td>0.219525</td>\n",
              "      <td>0.373528</td>\n",
              "      <td>0.472300</td>\n",
              "      <td>0.896659</td>\n",
              "      <td>1.113278</td>\n",
              "      <td>0.890741</td>\n",
              "      <td>1.287897</td>\n",
              "      <td>1.390303</td>\n",
              "    </tr>\n",
              "    <tr>\n",
              "      <th>min</th>\n",
              "      <td>0.000000</td>\n",
              "      <td>15.000000</td>\n",
              "      <td>0.000000</td>\n",
              "      <td>0.000000</td>\n",
              "      <td>0.000000</td>\n",
              "      <td>1.000000</td>\n",
              "      <td>0.000000</td>\n",
              "      <td>0.000000</td>\n",
              "      <td>0.000000</td>\n",
              "      <td>0.000000</td>\n",
              "      <td>0.000000</td>\n",
              "      <td>0.000000</td>\n",
              "      <td>1.000000</td>\n",
              "      <td>1.000000</td>\n",
              "      <td>1.000000</td>\n",
              "      <td>1.000000</td>\n",
              "      <td>1.000000</td>\n",
              "    </tr>\n",
              "    <tr>\n",
              "      <th>25%</th>\n",
              "      <td>0.000000</td>\n",
              "      <td>16.000000</td>\n",
              "      <td>0.000000</td>\n",
              "      <td>1.000000</td>\n",
              "      <td>0.000000</td>\n",
              "      <td>1.000000</td>\n",
              "      <td>0.000000</td>\n",
              "      <td>0.000000</td>\n",
              "      <td>0.000000</td>\n",
              "      <td>0.000000</td>\n",
              "      <td>1.000000</td>\n",
              "      <td>0.000000</td>\n",
              "      <td>4.000000</td>\n",
              "      <td>2.000000</td>\n",
              "      <td>1.000000</td>\n",
              "      <td>1.000000</td>\n",
              "      <td>3.000000</td>\n",
              "    </tr>\n",
              "    <tr>\n",
              "      <th>50%</th>\n",
              "      <td>0.000000</td>\n",
              "      <td>17.000000</td>\n",
              "      <td>0.000000</td>\n",
              "      <td>1.000000</td>\n",
              "      <td>0.000000</td>\n",
              "      <td>2.000000</td>\n",
              "      <td>0.000000</td>\n",
              "      <td>1.000000</td>\n",
              "      <td>1.000000</td>\n",
              "      <td>0.000000</td>\n",
              "      <td>1.000000</td>\n",
              "      <td>0.000000</td>\n",
              "      <td>4.000000</td>\n",
              "      <td>3.000000</td>\n",
              "      <td>1.000000</td>\n",
              "      <td>2.000000</td>\n",
              "      <td>4.000000</td>\n",
              "    </tr>\n",
              "    <tr>\n",
              "      <th>75%</th>\n",
              "      <td>1.000000</td>\n",
              "      <td>18.000000</td>\n",
              "      <td>0.000000</td>\n",
              "      <td>1.000000</td>\n",
              "      <td>1.000000</td>\n",
              "      <td>2.000000</td>\n",
              "      <td>0.000000</td>\n",
              "      <td>1.000000</td>\n",
              "      <td>1.000000</td>\n",
              "      <td>0.000000</td>\n",
              "      <td>1.000000</td>\n",
              "      <td>1.000000</td>\n",
              "      <td>5.000000</td>\n",
              "      <td>4.000000</td>\n",
              "      <td>2.000000</td>\n",
              "      <td>3.000000</td>\n",
              "      <td>5.000000</td>\n",
              "    </tr>\n",
              "    <tr>\n",
              "      <th>max</th>\n",
              "      <td>1.000000</td>\n",
              "      <td>22.000000</td>\n",
              "      <td>1.000000</td>\n",
              "      <td>1.000000</td>\n",
              "      <td>2.000000</td>\n",
              "      <td>4.000000</td>\n",
              "      <td>3.000000</td>\n",
              "      <td>1.000000</td>\n",
              "      <td>1.000000</td>\n",
              "      <td>1.000000</td>\n",
              "      <td>1.000000</td>\n",
              "      <td>1.000000</td>\n",
              "      <td>5.000000</td>\n",
              "      <td>5.000000</td>\n",
              "      <td>5.000000</td>\n",
              "      <td>5.000000</td>\n",
              "      <td>5.000000</td>\n",
              "    </tr>\n",
              "  </tbody>\n",
              "</table>\n",
              "</div>\n",
              "      <button class=\"colab-df-convert\" onclick=\"convertToInteractive('df-af20efac-4f06-43a4-8fa0-d917bba2ebc3')\"\n",
              "              title=\"Convert this dataframe to an interactive table.\"\n",
              "              style=\"display:none;\">\n",
              "        \n",
              "  <svg xmlns=\"http://www.w3.org/2000/svg\" height=\"24px\"viewBox=\"0 0 24 24\"\n",
              "       width=\"24px\">\n",
              "    <path d=\"M0 0h24v24H0V0z\" fill=\"none\"/>\n",
              "    <path d=\"M18.56 5.44l.94 2.06.94-2.06 2.06-.94-2.06-.94-.94-2.06-.94 2.06-2.06.94zm-11 1L8.5 8.5l.94-2.06 2.06-.94-2.06-.94L8.5 2.5l-.94 2.06-2.06.94zm10 10l.94 2.06.94-2.06 2.06-.94-2.06-.94-.94-2.06-.94 2.06-2.06.94z\"/><path d=\"M17.41 7.96l-1.37-1.37c-.4-.4-.92-.59-1.43-.59-.52 0-1.04.2-1.43.59L10.3 9.45l-7.72 7.72c-.78.78-.78 2.05 0 2.83L4 21.41c.39.39.9.59 1.41.59.51 0 1.02-.2 1.41-.59l7.78-7.78 2.81-2.81c.8-.78.8-2.07 0-2.86zM5.41 20L4 18.59l7.72-7.72 1.47 1.35L5.41 20z\"/>\n",
              "  </svg>\n",
              "      </button>\n",
              "      \n",
              "  <style>\n",
              "    .colab-df-container {\n",
              "      display:flex;\n",
              "      flex-wrap:wrap;\n",
              "      gap: 12px;\n",
              "    }\n",
              "\n",
              "    .colab-df-convert {\n",
              "      background-color: #E8F0FE;\n",
              "      border: none;\n",
              "      border-radius: 50%;\n",
              "      cursor: pointer;\n",
              "      display: none;\n",
              "      fill: #1967D2;\n",
              "      height: 32px;\n",
              "      padding: 0 0 0 0;\n",
              "      width: 32px;\n",
              "    }\n",
              "\n",
              "    .colab-df-convert:hover {\n",
              "      background-color: #E2EBFA;\n",
              "      box-shadow: 0px 1px 2px rgba(60, 64, 67, 0.3), 0px 1px 3px 1px rgba(60, 64, 67, 0.15);\n",
              "      fill: #174EA6;\n",
              "    }\n",
              "\n",
              "    [theme=dark] .colab-df-convert {\n",
              "      background-color: #3B4455;\n",
              "      fill: #D2E3FC;\n",
              "    }\n",
              "\n",
              "    [theme=dark] .colab-df-convert:hover {\n",
              "      background-color: #434B5C;\n",
              "      box-shadow: 0px 1px 3px 1px rgba(0, 0, 0, 0.15);\n",
              "      filter: drop-shadow(0px 1px 2px rgba(0, 0, 0, 0.3));\n",
              "      fill: #FFFFFF;\n",
              "    }\n",
              "  </style>\n",
              "\n",
              "      <script>\n",
              "        const buttonEl =\n",
              "          document.querySelector('#df-af20efac-4f06-43a4-8fa0-d917bba2ebc3 button.colab-df-convert');\n",
              "        buttonEl.style.display =\n",
              "          google.colab.kernel.accessAllowed ? 'block' : 'none';\n",
              "\n",
              "        async function convertToInteractive(key) {\n",
              "          const element = document.querySelector('#df-af20efac-4f06-43a4-8fa0-d917bba2ebc3');\n",
              "          const dataTable =\n",
              "            await google.colab.kernel.invokeFunction('convertToInteractive',\n",
              "                                                     [key], {});\n",
              "          if (!dataTable) return;\n",
              "\n",
              "          const docLinkHtml = 'Like what you see? Visit the ' +\n",
              "            '<a target=\"_blank\" href=https://colab.research.google.com/notebooks/data_table.ipynb>data table notebook</a>'\n",
              "            + ' to learn more about interactive tables.';\n",
              "          element.innerHTML = '';\n",
              "          dataTable['output_type'] = 'display_data';\n",
              "          await google.colab.output.renderOutput(dataTable, element);\n",
              "          const docLink = document.createElement('div');\n",
              "          docLink.innerHTML = docLinkHtml;\n",
              "          element.appendChild(docLink);\n",
              "        }\n",
              "      </script>\n",
              "    </div>\n",
              "  </div>\n",
              "  "
            ]
          },
          "metadata": {},
          "execution_count": 48
        }
      ]
    },
    {
      "cell_type": "code",
      "source": [
        "from sklearn.preprocessing import StandardScaler"
      ],
      "metadata": {
        "id": "rzkoXkCjE7n_"
      },
      "execution_count": null,
      "outputs": []
    },
    {
      "cell_type": "code",
      "source": [
        "previsores_esc = StandardScaler().fit_transform(previsores)"
      ],
      "metadata": {
        "id": "xzjQqZujE9I_"
      },
      "execution_count": null,
      "outputs": []
    },
    {
      "cell_type": "code",
      "source": [
        "previsores_esc"
      ],
      "metadata": {
        "colab": {
          "base_uri": "https://localhost:8080/"
        },
        "id": "B1wt4epAE-Kv",
        "outputId": "7e0cec2d-5a63-48c9-a961-efd6e0b4975d"
      },
      "execution_count": null,
      "outputs": [
        {
          "output_type": "execute_result",
          "data": {
            "text/plain": [
              "array([[-0.94817639,  1.02304645, -0.53539233, ..., -0.54069866,\n",
              "        -1.00378921, -0.39928949],\n",
              "       [-0.94817639,  0.23837976, -0.53539233, ..., -0.54069866,\n",
              "        -1.00378921, -0.39928949],\n",
              "       [-0.94817639, -1.33095364, -0.53539233, ...,  0.58338539,\n",
              "         0.55109996, -0.39928949],\n",
              "       ...,\n",
              "       [ 1.05465609,  3.37704655,  1.86778916, ...,  1.70746944,\n",
              "         0.55109996, -0.39928949],\n",
              "       [ 1.05465609,  1.02304645,  1.86778916, ...,  1.70746944,\n",
              "         1.32854454,  1.04106985],\n",
              "       [ 1.05465609,  1.80771315, -0.53539233, ...,  1.70746944,\n",
              "         0.55109996,  1.04106985]])"
            ]
          },
          "metadata": {},
          "execution_count": 51
        }
      ]
    },
    {
      "cell_type": "code",
      "source": [
        "previsoresdf = pd.DataFrame(previsores_esc)\n",
        "previsoresdf"
      ],
      "metadata": {
        "colab": {
          "base_uri": "https://localhost:8080/",
          "height": 424
        },
        "id": "62EtmQz_E_g0",
        "outputId": "3a1e0a70-f6ba-458d-bae4-baf1166a5fc5"
      },
      "execution_count": null,
      "outputs": [
        {
          "output_type": "execute_result",
          "data": {
            "text/plain": [
              "           0         1         2         3         4         5         6   \\\n",
              "0   -0.948176  1.023046 -0.535392 -2.938392 -0.616523 -0.042286 -0.449944   \n",
              "1   -0.948176  0.238380 -0.535392  0.340322  0.964819 -0.042286 -0.449944   \n",
              "2   -0.948176 -1.330954 -0.535392  0.340322 -0.616523 -0.042286  3.589323   \n",
              "3   -0.948176 -1.330954 -0.535392  0.340322 -0.616523  1.150779 -0.449944   \n",
              "4   -0.948176 -0.546287 -0.535392  0.340322  0.964819 -0.042286 -0.449944   \n",
              "..        ...       ...       ...       ...       ...       ...       ...   \n",
              "390  1.054656  2.592380 -0.535392 -2.938392  2.546160 -0.042286  2.242901   \n",
              "391  1.054656  0.238380 -0.535392  0.340322 -0.616523 -1.235351 -0.449944   \n",
              "392  1.054656  3.377047  1.867789  0.340322  2.546160 -1.235351  3.589323   \n",
              "393  1.054656  1.023046  1.867789  0.340322 -0.616523 -1.235351 -0.449944   \n",
              "394  1.054656  1.807713 -0.535392  0.340322  0.964819 -1.235351 -0.449944   \n",
              "\n",
              "           7         8        9         10        11        12        13  \\\n",
              "0   -1.257656 -1.017881 -0.23094 -2.232677 -0.708450  0.062194  0.801479   \n",
              "1    0.795130 -1.017881 -0.23094  0.447893 -0.708450  1.178860 -0.097908   \n",
              "2   -1.257656 -1.017881 -0.23094  0.447893 -0.708450  0.062194 -0.997295   \n",
              "3    0.795130  0.982433 -0.23094  0.447893  1.411533 -1.054472 -0.997295   \n",
              "4    0.795130 -1.017881 -0.23094 -2.232677 -0.708450  0.062194 -0.997295   \n",
              "..        ...       ...      ...       ...       ...       ...       ...   \n",
              "390  0.795130 -1.017881 -0.23094 -2.232677 -0.708450  1.178860  0.801479   \n",
              "391 -1.257656 -1.017881 -0.23094  0.447893 -0.708450 -2.171138  1.700867   \n",
              "392 -1.257656 -1.017881 -0.23094 -2.232677 -0.708450  1.178860 -0.097908   \n",
              "393 -1.257656 -1.017881 -0.23094  0.447893 -0.708450  0.062194 -1.896683   \n",
              "394 -1.257656 -1.017881 -0.23094  0.447893 -0.708450 -1.054472 -0.097908   \n",
              "\n",
              "           14        15        16  \n",
              "0   -0.540699 -1.003789 -0.399289  \n",
              "1   -0.540699 -1.003789 -0.399289  \n",
              "2    0.583385  0.551100 -0.399289  \n",
              "3   -0.540699 -1.003789  1.041070  \n",
              "4   -0.540699 -0.226345  1.041070  \n",
              "..        ...       ...       ...  \n",
              "390  2.831553  2.105989  0.320890  \n",
              "391  1.707469  1.328545 -1.119469  \n",
              "392  1.707469  0.551100 -0.399289  \n",
              "393  1.707469  1.328545  1.041070  \n",
              "394  1.707469  0.551100  1.041070  \n",
              "\n",
              "[395 rows x 17 columns]"
            ],
            "text/html": [
              "\n",
              "  <div id=\"df-7ad648f1-1d5f-4e84-9f37-3570cda8868b\">\n",
              "    <div class=\"colab-df-container\">\n",
              "      <div>\n",
              "<style scoped>\n",
              "    .dataframe tbody tr th:only-of-type {\n",
              "        vertical-align: middle;\n",
              "    }\n",
              "\n",
              "    .dataframe tbody tr th {\n",
              "        vertical-align: top;\n",
              "    }\n",
              "\n",
              "    .dataframe thead th {\n",
              "        text-align: right;\n",
              "    }\n",
              "</style>\n",
              "<table border=\"1\" class=\"dataframe\">\n",
              "  <thead>\n",
              "    <tr style=\"text-align: right;\">\n",
              "      <th></th>\n",
              "      <th>0</th>\n",
              "      <th>1</th>\n",
              "      <th>2</th>\n",
              "      <th>3</th>\n",
              "      <th>4</th>\n",
              "      <th>5</th>\n",
              "      <th>6</th>\n",
              "      <th>7</th>\n",
              "      <th>8</th>\n",
              "      <th>9</th>\n",
              "      <th>10</th>\n",
              "      <th>11</th>\n",
              "      <th>12</th>\n",
              "      <th>13</th>\n",
              "      <th>14</th>\n",
              "      <th>15</th>\n",
              "      <th>16</th>\n",
              "    </tr>\n",
              "  </thead>\n",
              "  <tbody>\n",
              "    <tr>\n",
              "      <th>0</th>\n",
              "      <td>-0.948176</td>\n",
              "      <td>1.023046</td>\n",
              "      <td>-0.535392</td>\n",
              "      <td>-2.938392</td>\n",
              "      <td>-0.616523</td>\n",
              "      <td>-0.042286</td>\n",
              "      <td>-0.449944</td>\n",
              "      <td>-1.257656</td>\n",
              "      <td>-1.017881</td>\n",
              "      <td>-0.23094</td>\n",
              "      <td>-2.232677</td>\n",
              "      <td>-0.708450</td>\n",
              "      <td>0.062194</td>\n",
              "      <td>0.801479</td>\n",
              "      <td>-0.540699</td>\n",
              "      <td>-1.003789</td>\n",
              "      <td>-0.399289</td>\n",
              "    </tr>\n",
              "    <tr>\n",
              "      <th>1</th>\n",
              "      <td>-0.948176</td>\n",
              "      <td>0.238380</td>\n",
              "      <td>-0.535392</td>\n",
              "      <td>0.340322</td>\n",
              "      <td>0.964819</td>\n",
              "      <td>-0.042286</td>\n",
              "      <td>-0.449944</td>\n",
              "      <td>0.795130</td>\n",
              "      <td>-1.017881</td>\n",
              "      <td>-0.23094</td>\n",
              "      <td>0.447893</td>\n",
              "      <td>-0.708450</td>\n",
              "      <td>1.178860</td>\n",
              "      <td>-0.097908</td>\n",
              "      <td>-0.540699</td>\n",
              "      <td>-1.003789</td>\n",
              "      <td>-0.399289</td>\n",
              "    </tr>\n",
              "    <tr>\n",
              "      <th>2</th>\n",
              "      <td>-0.948176</td>\n",
              "      <td>-1.330954</td>\n",
              "      <td>-0.535392</td>\n",
              "      <td>0.340322</td>\n",
              "      <td>-0.616523</td>\n",
              "      <td>-0.042286</td>\n",
              "      <td>3.589323</td>\n",
              "      <td>-1.257656</td>\n",
              "      <td>-1.017881</td>\n",
              "      <td>-0.23094</td>\n",
              "      <td>0.447893</td>\n",
              "      <td>-0.708450</td>\n",
              "      <td>0.062194</td>\n",
              "      <td>-0.997295</td>\n",
              "      <td>0.583385</td>\n",
              "      <td>0.551100</td>\n",
              "      <td>-0.399289</td>\n",
              "    </tr>\n",
              "    <tr>\n",
              "      <th>3</th>\n",
              "      <td>-0.948176</td>\n",
              "      <td>-1.330954</td>\n",
              "      <td>-0.535392</td>\n",
              "      <td>0.340322</td>\n",
              "      <td>-0.616523</td>\n",
              "      <td>1.150779</td>\n",
              "      <td>-0.449944</td>\n",
              "      <td>0.795130</td>\n",
              "      <td>0.982433</td>\n",
              "      <td>-0.23094</td>\n",
              "      <td>0.447893</td>\n",
              "      <td>1.411533</td>\n",
              "      <td>-1.054472</td>\n",
              "      <td>-0.997295</td>\n",
              "      <td>-0.540699</td>\n",
              "      <td>-1.003789</td>\n",
              "      <td>1.041070</td>\n",
              "    </tr>\n",
              "    <tr>\n",
              "      <th>4</th>\n",
              "      <td>-0.948176</td>\n",
              "      <td>-0.546287</td>\n",
              "      <td>-0.535392</td>\n",
              "      <td>0.340322</td>\n",
              "      <td>0.964819</td>\n",
              "      <td>-0.042286</td>\n",
              "      <td>-0.449944</td>\n",
              "      <td>0.795130</td>\n",
              "      <td>-1.017881</td>\n",
              "      <td>-0.23094</td>\n",
              "      <td>-2.232677</td>\n",
              "      <td>-0.708450</td>\n",
              "      <td>0.062194</td>\n",
              "      <td>-0.997295</td>\n",
              "      <td>-0.540699</td>\n",
              "      <td>-0.226345</td>\n",
              "      <td>1.041070</td>\n",
              "    </tr>\n",
              "    <tr>\n",
              "      <th>...</th>\n",
              "      <td>...</td>\n",
              "      <td>...</td>\n",
              "      <td>...</td>\n",
              "      <td>...</td>\n",
              "      <td>...</td>\n",
              "      <td>...</td>\n",
              "      <td>...</td>\n",
              "      <td>...</td>\n",
              "      <td>...</td>\n",
              "      <td>...</td>\n",
              "      <td>...</td>\n",
              "      <td>...</td>\n",
              "      <td>...</td>\n",
              "      <td>...</td>\n",
              "      <td>...</td>\n",
              "      <td>...</td>\n",
              "      <td>...</td>\n",
              "    </tr>\n",
              "    <tr>\n",
              "      <th>390</th>\n",
              "      <td>1.054656</td>\n",
              "      <td>2.592380</td>\n",
              "      <td>-0.535392</td>\n",
              "      <td>-2.938392</td>\n",
              "      <td>2.546160</td>\n",
              "      <td>-0.042286</td>\n",
              "      <td>2.242901</td>\n",
              "      <td>0.795130</td>\n",
              "      <td>-1.017881</td>\n",
              "      <td>-0.23094</td>\n",
              "      <td>-2.232677</td>\n",
              "      <td>-0.708450</td>\n",
              "      <td>1.178860</td>\n",
              "      <td>0.801479</td>\n",
              "      <td>2.831553</td>\n",
              "      <td>2.105989</td>\n",
              "      <td>0.320890</td>\n",
              "    </tr>\n",
              "    <tr>\n",
              "      <th>391</th>\n",
              "      <td>1.054656</td>\n",
              "      <td>0.238380</td>\n",
              "      <td>-0.535392</td>\n",
              "      <td>0.340322</td>\n",
              "      <td>-0.616523</td>\n",
              "      <td>-1.235351</td>\n",
              "      <td>-0.449944</td>\n",
              "      <td>-1.257656</td>\n",
              "      <td>-1.017881</td>\n",
              "      <td>-0.23094</td>\n",
              "      <td>0.447893</td>\n",
              "      <td>-0.708450</td>\n",
              "      <td>-2.171138</td>\n",
              "      <td>1.700867</td>\n",
              "      <td>1.707469</td>\n",
              "      <td>1.328545</td>\n",
              "      <td>-1.119469</td>\n",
              "    </tr>\n",
              "    <tr>\n",
              "      <th>392</th>\n",
              "      <td>1.054656</td>\n",
              "      <td>3.377047</td>\n",
              "      <td>1.867789</td>\n",
              "      <td>0.340322</td>\n",
              "      <td>2.546160</td>\n",
              "      <td>-1.235351</td>\n",
              "      <td>3.589323</td>\n",
              "      <td>-1.257656</td>\n",
              "      <td>-1.017881</td>\n",
              "      <td>-0.23094</td>\n",
              "      <td>-2.232677</td>\n",
              "      <td>-0.708450</td>\n",
              "      <td>1.178860</td>\n",
              "      <td>-0.097908</td>\n",
              "      <td>1.707469</td>\n",
              "      <td>0.551100</td>\n",
              "      <td>-0.399289</td>\n",
              "    </tr>\n",
              "    <tr>\n",
              "      <th>393</th>\n",
              "      <td>1.054656</td>\n",
              "      <td>1.023046</td>\n",
              "      <td>1.867789</td>\n",
              "      <td>0.340322</td>\n",
              "      <td>-0.616523</td>\n",
              "      <td>-1.235351</td>\n",
              "      <td>-0.449944</td>\n",
              "      <td>-1.257656</td>\n",
              "      <td>-1.017881</td>\n",
              "      <td>-0.23094</td>\n",
              "      <td>0.447893</td>\n",
              "      <td>-0.708450</td>\n",
              "      <td>0.062194</td>\n",
              "      <td>-1.896683</td>\n",
              "      <td>1.707469</td>\n",
              "      <td>1.328545</td>\n",
              "      <td>1.041070</td>\n",
              "    </tr>\n",
              "    <tr>\n",
              "      <th>394</th>\n",
              "      <td>1.054656</td>\n",
              "      <td>1.807713</td>\n",
              "      <td>-0.535392</td>\n",
              "      <td>0.340322</td>\n",
              "      <td>0.964819</td>\n",
              "      <td>-1.235351</td>\n",
              "      <td>-0.449944</td>\n",
              "      <td>-1.257656</td>\n",
              "      <td>-1.017881</td>\n",
              "      <td>-0.23094</td>\n",
              "      <td>0.447893</td>\n",
              "      <td>-0.708450</td>\n",
              "      <td>-1.054472</td>\n",
              "      <td>-0.097908</td>\n",
              "      <td>1.707469</td>\n",
              "      <td>0.551100</td>\n",
              "      <td>1.041070</td>\n",
              "    </tr>\n",
              "  </tbody>\n",
              "</table>\n",
              "<p>395 rows × 17 columns</p>\n",
              "</div>\n",
              "      <button class=\"colab-df-convert\" onclick=\"convertToInteractive('df-7ad648f1-1d5f-4e84-9f37-3570cda8868b')\"\n",
              "              title=\"Convert this dataframe to an interactive table.\"\n",
              "              style=\"display:none;\">\n",
              "        \n",
              "  <svg xmlns=\"http://www.w3.org/2000/svg\" height=\"24px\"viewBox=\"0 0 24 24\"\n",
              "       width=\"24px\">\n",
              "    <path d=\"M0 0h24v24H0V0z\" fill=\"none\"/>\n",
              "    <path d=\"M18.56 5.44l.94 2.06.94-2.06 2.06-.94-2.06-.94-.94-2.06-.94 2.06-2.06.94zm-11 1L8.5 8.5l.94-2.06 2.06-.94-2.06-.94L8.5 2.5l-.94 2.06-2.06.94zm10 10l.94 2.06.94-2.06 2.06-.94-2.06-.94-.94-2.06-.94 2.06-2.06.94z\"/><path d=\"M17.41 7.96l-1.37-1.37c-.4-.4-.92-.59-1.43-.59-.52 0-1.04.2-1.43.59L10.3 9.45l-7.72 7.72c-.78.78-.78 2.05 0 2.83L4 21.41c.39.39.9.59 1.41.59.51 0 1.02-.2 1.41-.59l7.78-7.78 2.81-2.81c.8-.78.8-2.07 0-2.86zM5.41 20L4 18.59l7.72-7.72 1.47 1.35L5.41 20z\"/>\n",
              "  </svg>\n",
              "      </button>\n",
              "      \n",
              "  <style>\n",
              "    .colab-df-container {\n",
              "      display:flex;\n",
              "      flex-wrap:wrap;\n",
              "      gap: 12px;\n",
              "    }\n",
              "\n",
              "    .colab-df-convert {\n",
              "      background-color: #E8F0FE;\n",
              "      border: none;\n",
              "      border-radius: 50%;\n",
              "      cursor: pointer;\n",
              "      display: none;\n",
              "      fill: #1967D2;\n",
              "      height: 32px;\n",
              "      padding: 0 0 0 0;\n",
              "      width: 32px;\n",
              "    }\n",
              "\n",
              "    .colab-df-convert:hover {\n",
              "      background-color: #E2EBFA;\n",
              "      box-shadow: 0px 1px 2px rgba(60, 64, 67, 0.3), 0px 1px 3px 1px rgba(60, 64, 67, 0.15);\n",
              "      fill: #174EA6;\n",
              "    }\n",
              "\n",
              "    [theme=dark] .colab-df-convert {\n",
              "      background-color: #3B4455;\n",
              "      fill: #D2E3FC;\n",
              "    }\n",
              "\n",
              "    [theme=dark] .colab-df-convert:hover {\n",
              "      background-color: #434B5C;\n",
              "      box-shadow: 0px 1px 3px 1px rgba(0, 0, 0, 0.15);\n",
              "      filter: drop-shadow(0px 1px 2px rgba(0, 0, 0, 0.3));\n",
              "      fill: #FFFFFF;\n",
              "    }\n",
              "  </style>\n",
              "\n",
              "      <script>\n",
              "        const buttonEl =\n",
              "          document.querySelector('#df-7ad648f1-1d5f-4e84-9f37-3570cda8868b button.colab-df-convert');\n",
              "        buttonEl.style.display =\n",
              "          google.colab.kernel.accessAllowed ? 'block' : 'none';\n",
              "\n",
              "        async function convertToInteractive(key) {\n",
              "          const element = document.querySelector('#df-7ad648f1-1d5f-4e84-9f37-3570cda8868b');\n",
              "          const dataTable =\n",
              "            await google.colab.kernel.invokeFunction('convertToInteractive',\n",
              "                                                     [key], {});\n",
              "          if (!dataTable) return;\n",
              "\n",
              "          const docLinkHtml = 'Like what you see? Visit the ' +\n",
              "            '<a target=\"_blank\" href=https://colab.research.google.com/notebooks/data_table.ipynb>data table notebook</a>'\n",
              "            + ' to learn more about interactive tables.';\n",
              "          element.innerHTML = '';\n",
              "          dataTable['output_type'] = 'display_data';\n",
              "          await google.colab.output.renderOutput(dataTable, element);\n",
              "          const docLink = document.createElement('div');\n",
              "          docLink.innerHTML = docLinkHtml;\n",
              "          element.appendChild(docLink);\n",
              "        }\n",
              "      </script>\n",
              "    </div>\n",
              "  </div>\n",
              "  "
            ]
          },
          "metadata": {},
          "execution_count": 52
        }
      ]
    },
    {
      "cell_type": "markdown",
      "source": [
        "## **RESUMO PRÉ-PROCESSAMENTO**"
      ],
      "metadata": {
        "id": "h4yfDq3NFBav"
      }
    },
    {
      "cell_type": "markdown",
      "source": [
        "alvo = variável que se pretende atingir (gravidade de alcoolismo dos estudantes nos finais de semana).\n",
        "\n",
        "previsores = conjunto de variáveis previsoras com as variáveis categóricas transformadas em numéricas manualmente, sem escalonar.\n",
        "\n",
        "previsores_esc = conjunto de variáveis previsoras com as variáveis categóricas transformadas em numéricas, escalonada."
      ],
      "metadata": {
        "id": "WLiGQ9LCFC6m"
      }
    },
    {
      "cell_type": "markdown",
      "source": [
        "## **BASE DE TREINO E TESTE**"
      ],
      "metadata": {
        "id": "-Conc4JPFEW-"
      }
    },
    {
      "cell_type": "markdown",
      "source": [
        "Parâmetros train_test_split:   \n",
        "- arrays: nomes dos atributos previsores e alvo.   \n",
        "- test_size: tamanho em porcentagem dos dados de teste. default é none.   \n",
        "- train_size: tamanho em porcentagem dos dados de treinamento.default é none.  \n",
        "- random_state: nomeação de um estado aleatório.   \n",
        "- shuffle: embaralhamento dos dados aleatórios. Associado com o random_state ocorre o mesmo embaralhamento sempre. Default é True.  \n",
        "- stratify: Possibilidade de dividir os dados de forma estratificada. Default é None (nesse caso é mantido a proporção, isto é, se tem 30% de zeros e 70% de 1 no dataframe, na separação em treinamento e teste se manterá essa proporção)."
      ],
      "metadata": {
        "id": "P9LvOwsaFFn_"
      }
    },
    {
      "cell_type": "code",
      "source": [
        "from sklearn.model_selection import train_test_split"
      ],
      "metadata": {
        "id": "dK8-EED4FHMm"
      },
      "execution_count": null,
      "outputs": []
    },
    {
      "cell_type": "code",
      "source": [
        "x_treino, x_teste, y_treino, y_teste = train_test_split(previsores_esc, alvo, test_size = 0.3, random_state = 0)"
      ],
      "metadata": {
        "id": "AS0SXJhNFIdX"
      },
      "execution_count": null,
      "outputs": []
    },
    {
      "cell_type": "code",
      "source": [
        "x_treino.shape"
      ],
      "metadata": {
        "colab": {
          "base_uri": "https://localhost:8080/"
        },
        "id": "e7oN42yrFJOm",
        "outputId": "7a4bf11b-ee99-43bd-9410-086c7a7321d6"
      },
      "execution_count": null,
      "outputs": [
        {
          "output_type": "execute_result",
          "data": {
            "text/plain": [
              "(276, 17)"
            ]
          },
          "metadata": {},
          "execution_count": 55
        }
      ]
    },
    {
      "cell_type": "code",
      "source": [
        "y_treino.shape"
      ],
      "metadata": {
        "colab": {
          "base_uri": "https://localhost:8080/"
        },
        "id": "z0ADmmxaFLAv",
        "outputId": "70a99710-d54b-4f2b-da0d-dc422db9b842"
      },
      "execution_count": null,
      "outputs": [
        {
          "output_type": "execute_result",
          "data": {
            "text/plain": [
              "(276,)"
            ]
          },
          "metadata": {},
          "execution_count": 56
        }
      ]
    },
    {
      "cell_type": "code",
      "source": [
        "x_teste.shape"
      ],
      "metadata": {
        "colab": {
          "base_uri": "https://localhost:8080/"
        },
        "id": "Hu8e9EckFKGv",
        "outputId": "9f0112f7-b6ff-4312-91a2-b83bc513d3be"
      },
      "execution_count": null,
      "outputs": [
        {
          "output_type": "execute_result",
          "data": {
            "text/plain": [
              "(119, 17)"
            ]
          },
          "metadata": {},
          "execution_count": 57
        }
      ]
    },
    {
      "cell_type": "code",
      "source": [
        "y_teste.shape"
      ],
      "metadata": {
        "colab": {
          "base_uri": "https://localhost:8080/"
        },
        "id": "ii3hKj2fFLxu",
        "outputId": "511b66ae-d27c-4f00-f983-4ae8dc10df46"
      },
      "execution_count": null,
      "outputs": [
        {
          "output_type": "execute_result",
          "data": {
            "text/plain": [
              "(119,)"
            ]
          },
          "metadata": {},
          "execution_count": 58
        }
      ]
    },
    {
      "cell_type": "markdown",
      "source": [
        "# **REGRESSÃO LOGÍSTICA**"
      ],
      "metadata": {
        "id": "896yT9L5FTV2"
      }
    },
    {
      "cell_type": "markdown",
      "source": [
        "https://scikit-learn.org/stable/modules/generated/sklearn.linear_model.LogisticRegression.html"
      ],
      "metadata": {
        "id": "7L8lqSvUFSC-"
      }
    },
    {
      "cell_type": "code",
      "source": [
        "from sklearn.linear_model import LogisticRegression"
      ],
      "metadata": {
        "id": "h9grQZ41FWc2"
      },
      "execution_count": null,
      "outputs": []
    },
    {
      "cell_type": "code",
      "source": [
        "logistica = LogisticRegression(random_state=1, max_iter=500, penalty=\"l2\",\n",
        "                               tol=0.0001, C=12,solver=\"lbfgs\")\n",
        "logistica.fit(x_treino, y_treino)"
      ],
      "metadata": {
        "colab": {
          "base_uri": "https://localhost:8080/"
        },
        "id": "BAmDXPfoFYWW",
        "outputId": "873db0d4-00f2-4832-c2bd-6f16dd9de628"
      },
      "execution_count": null,
      "outputs": [
        {
          "output_type": "execute_result",
          "data": {
            "text/plain": [
              "LogisticRegression(C=12, max_iter=500, random_state=1)"
            ]
          },
          "metadata": {},
          "execution_count": 156
        }
      ]
    },
    {
      "cell_type": "code",
      "source": [
        "logistica.intercept_"
      ],
      "metadata": {
        "colab": {
          "base_uri": "https://localhost:8080/"
        },
        "id": "AbddqMwvFZ6v",
        "outputId": "3c8c4628-0d8a-49fa-8c14-565a48e0668a"
      },
      "execution_count": null,
      "outputs": [
        {
          "output_type": "execute_result",
          "data": {
            "text/plain": [
              "array([-10.13496485,  -0.44029346,   5.48540591,   5.48294088,\n",
              "        -0.39308849])"
            ]
          },
          "metadata": {},
          "execution_count": 157
        }
      ]
    },
    {
      "cell_type": "code",
      "source": [
        "logistica.coef_"
      ],
      "metadata": {
        "colab": {
          "base_uri": "https://localhost:8080/"
        },
        "id": "BetVE_3vFa4m",
        "outputId": "b6795c05-e43d-4f51-f1dd-6b5723021ca9"
      },
      "execution_count": null,
      "outputs": [
        {
          "output_type": "execute_result",
          "data": {
            "text/plain": [
              "array([[-3.19966569e-01, -2.88638719e-02,  6.80842176e-02,\n",
              "        -3.18962522e-01, -2.53521585e-01, -1.11647442e-01,\n",
              "        -3.40504388e-02, -9.71052517e-02, -9.60386799e-03,\n",
              "         9.25118597e-02,  1.57292430e-01,  4.28291664e-02,\n",
              "        -1.87237751e-01,  5.47678670e-02,  2.64401005e-02,\n",
              "        -1.67355839e-01, -1.44742652e+01],\n",
              "       [-3.26760950e-02, -1.13794641e-01, -1.81401612e-01,\n",
              "         8.12820800e-01,  1.76763931e-01,  1.78346294e-02,\n",
              "        -5.72887463e-03,  6.54882997e-02,  1.89169634e-01,\n",
              "         1.00239449e-01, -9.90822354e-02, -1.59645858e-01,\n",
              "         9.28953686e-02,  2.04144213e-01,  1.71151843e-02,\n",
              "         1.06058645e-01, -7.56420059e+00],\n",
              "       [ 6.78742380e-02,  1.98638248e-01, -1.08487004e-02,\n",
              "        -1.16203748e-01,  3.22299430e-02,  6.25379157e-02,\n",
              "         1.11360988e-02, -1.92648153e-02, -2.16889168e-01,\n",
              "        -3.06544179e-02, -7.91449397e-02,  1.40238747e-01,\n",
              "        -2.12724159e-01, -1.81290061e-01, -2.90537587e-02,\n",
              "        -1.22618990e-02, -9.10473320e-01],\n",
              "       [ 1.56860039e-01,  1.23259791e-01,  9.65289422e-02,\n",
              "        -2.55298146e-01,  6.46993430e-02,  1.09885494e-01,\n",
              "        -8.79159184e-02, -1.00188374e-02,  1.26086472e-01,\n",
              "        -1.11968363e-01, -2.47531383e-03, -1.01445441e-01,\n",
              "         1.77715009e-01,  9.74186033e-02, -7.22208035e-03,\n",
              "        -7.43524788e-02,  6.75731276e+00],\n",
              "       [ 1.27908387e-01, -1.79239527e-01,  2.76371525e-02,\n",
              "        -1.22356384e-01, -2.01716313e-02, -7.86105967e-02,\n",
              "         1.16559133e-01,  6.09006046e-02, -8.87630706e-02,\n",
              "        -5.01285280e-02,  2.34100590e-02,  7.80233857e-02,\n",
              "         1.29351532e-01, -1.75040623e-01, -7.27944573e-03,\n",
              "         1.47911572e-01,  1.61916263e+01]])"
            ]
          },
          "metadata": {},
          "execution_count": 158
        }
      ]
    },
    {
      "cell_type": "code",
      "source": [
        "previsoes_logistica = logistica.predict(x_teste)\n",
        "previsoes_logistica"
      ],
      "metadata": {
        "id": "tk1MdsLGFb72",
        "colab": {
          "base_uri": "https://localhost:8080/"
        },
        "outputId": "f7fbc0a1-0fb7-4f82-a8cc-ff10b36c8c74"
      },
      "execution_count": null,
      "outputs": [
        {
          "output_type": "execute_result",
          "data": {
            "text/plain": [
              "array([4, 5, 5, 1, 5, 3, 4, 4, 5, 2, 4, 5, 1, 3, 1, 5, 5, 3, 5, 3, 4, 4,\n",
              "       4, 3, 3, 5, 1, 3, 5, 5, 5, 3, 5, 1, 1, 3, 1, 2, 3, 3, 3, 3, 4, 5,\n",
              "       5, 4, 2, 5, 2, 5, 2, 5, 5, 2, 5, 5, 2, 4, 5, 3, 1, 1, 2, 3, 2, 5,\n",
              "       2, 5, 1, 4, 4, 1, 4, 5, 5, 3, 5, 5, 3, 2, 1, 4, 4, 5, 4, 5, 5, 1,\n",
              "       1, 3, 2, 4, 2, 1, 2, 4, 4, 4, 2, 5, 3, 5, 5, 5, 5, 3, 5, 2, 4, 3,\n",
              "       3, 3, 5, 2, 5, 3, 5, 5, 4])"
            ]
          },
          "metadata": {},
          "execution_count": 159
        }
      ]
    },
    {
      "cell_type": "code",
      "source": [
        "from sklearn.metrics import accuracy_score, confusion_matrix, classification_report"
      ],
      "metadata": {
        "id": "xf-sAk-Tjqsy"
      },
      "execution_count": null,
      "outputs": []
    },
    {
      "cell_type": "code",
      "source": [
        "print(\"Acurácia: %.2f%%\" % (accuracy_score(y_teste, previsoes_logistica) * 100.0))"
      ],
      "metadata": {
        "colab": {
          "base_uri": "https://localhost:8080/"
        },
        "id": "oExINmq5Fc62",
        "outputId": "1f400d25-12ea-4dc9-f36e-b82201ef7ea1"
      },
      "execution_count": null,
      "outputs": [
        {
          "output_type": "stream",
          "name": "stdout",
          "text": [
            "Acurácia: 97.48%\n"
          ]
        }
      ]
    },
    {
      "cell_type": "code",
      "source": [
        "confusion_matrix(y_teste, previsoes_logistica)"
      ],
      "metadata": {
        "colab": {
          "base_uri": "https://localhost:8080/"
        },
        "id": "FA95VHDpFdu1",
        "outputId": "3a8e4cb2-235c-4fc5-b15c-6ca2db94a839"
      },
      "execution_count": null,
      "outputs": [
        {
          "output_type": "execute_result",
          "data": {
            "text/plain": [
              "array([[12,  0,  0,  0,  0],\n",
              "       [ 3, 14,  3,  0,  0],\n",
              "       [ 0,  0, 24,  0,  0],\n",
              "       [ 0,  0,  1, 21,  0],\n",
              "       [ 0,  0,  0,  0, 41]])"
            ]
          },
          "metadata": {},
          "execution_count": 125
        }
      ]
    },
    {
      "cell_type": "code",
      "source": [
        "print(classification_report(y_teste, previsoes_logistica))"
      ],
      "metadata": {
        "colab": {
          "base_uri": "https://localhost:8080/"
        },
        "id": "SXKgVt-VFepw",
        "outputId": "43911f45-16fe-4568-c0b1-b962f3d3a02d"
      },
      "execution_count": null,
      "outputs": [
        {
          "output_type": "stream",
          "name": "stdout",
          "text": [
            "              precision    recall  f1-score   support\n",
            "\n",
            "           1       0.80      1.00      0.89        12\n",
            "           2       1.00      0.85      0.92        20\n",
            "           3       1.00      1.00      1.00        24\n",
            "           4       1.00      1.00      1.00        22\n",
            "           5       1.00      1.00      1.00        41\n",
            "\n",
            "    accuracy                           0.97       119\n",
            "   macro avg       0.96      0.97      0.96       119\n",
            "weighted avg       0.98      0.97      0.98       119\n",
            "\n"
          ]
        }
      ]
    },
    {
      "cell_type": "markdown",
      "source": [
        "**Análise dados de treino**"
      ],
      "metadata": {
        "id": "CcKL30jyFf7g"
      }
    },
    {
      "cell_type": "code",
      "source": [
        "previsoes_treino = logistica.predict(x_treino)\n",
        "previsoes_treino"
      ],
      "metadata": {
        "colab": {
          "base_uri": "https://localhost:8080/"
        },
        "id": "PJUUK48oFhIW",
        "outputId": "9e04fab4-65a9-48ef-faa8-d782b54f9d10"
      },
      "execution_count": null,
      "outputs": [
        {
          "output_type": "execute_result",
          "data": {
            "text/plain": [
              "array([5, 4, 5, 5, 5, 5, 1, 3, 5, 3, 5, 4, 4, 3, 5, 4, 1, 2, 5, 5, 5, 2,\n",
              "       4, 5, 1, 2, 3, 1, 5, 5, 3, 5, 2, 1, 5, 5, 3, 5, 2, 1, 5, 5, 5, 5,\n",
              "       5, 5, 2, 5, 5, 3, 1, 3, 1, 4, 3, 5, 5, 3, 2, 2, 5, 5, 4, 5, 4, 5,\n",
              "       1, 3, 3, 5, 5, 3, 4, 5, 4, 4, 3, 1, 3, 5, 3, 5, 5, 4, 5, 3, 4, 1,\n",
              "       2, 4, 3, 3, 3, 3, 5, 5, 3, 3, 5, 3, 3, 5, 5, 2, 1, 5, 1, 3, 4, 3,\n",
              "       3, 5, 5, 3, 5, 3, 4, 5, 4, 3, 2, 2, 5, 4, 3, 5, 5, 5, 5, 1, 5, 4,\n",
              "       3, 5, 4, 5, 3, 5, 3, 5, 3, 3, 5, 3, 5, 3, 1, 2, 1, 2, 5, 3, 3, 4,\n",
              "       4, 4, 2, 5, 4, 2, 5, 5, 5, 4, 4, 1, 4, 5, 5, 3, 1, 3, 5, 5, 5, 1,\n",
              "       3, 4, 4, 1, 3, 3, 4, 4, 3, 1, 4, 3, 3, 3, 5, 1, 1, 3, 5, 1, 3, 4,\n",
              "       3, 5, 3, 3, 4, 5, 3, 5, 1, 5, 4, 4, 3, 5, 3, 1, 2, 5, 4, 1, 1, 4,\n",
              "       5, 5, 5, 4, 5, 5, 1, 2, 5, 3, 1, 5, 5, 5, 4, 1, 2, 5, 5, 4, 3, 4,\n",
              "       3, 1, 5, 3, 5, 5, 1, 5, 2, 5, 2, 2, 1, 4, 5, 2, 5, 3, 3, 5, 1, 5,\n",
              "       3, 3, 3, 5, 4, 5, 2, 5, 5, 5, 2, 5])"
            ]
          },
          "metadata": {},
          "execution_count": 81
        }
      ]
    },
    {
      "cell_type": "code",
      "source": [
        "accuracy_score(y_treino, previsoes_treino)"
      ],
      "metadata": {
        "colab": {
          "base_uri": "https://localhost:8080/"
        },
        "id": "b9l-P5aXFiJG",
        "outputId": "f14306e9-9305-41bf-ba08-ef8fb21f3c28"
      },
      "execution_count": null,
      "outputs": [
        {
          "output_type": "execute_result",
          "data": {
            "text/plain": [
              "1.0"
            ]
          },
          "metadata": {},
          "execution_count": 82
        }
      ]
    },
    {
      "cell_type": "code",
      "source": [
        "confusion_matrix(y_treino, previsoes_treino)"
      ],
      "metadata": {
        "colab": {
          "base_uri": "https://localhost:8080/"
        },
        "id": "QHa61YtfFjkB",
        "outputId": "b4ae6632-20c2-4aad-9e3d-d8ed97ce899c"
      },
      "execution_count": null,
      "outputs": [
        {
          "output_type": "execute_result",
          "data": {
            "text/plain": [
              "array([[ 35,   0,   0,   0,   0],\n",
              "       [  0,  25,   0,   0,   0],\n",
              "       [  0,   0,  67,   0,   0],\n",
              "       [  0,   0,   0,  44,   0],\n",
              "       [  0,   0,   0,   0, 105]])"
            ]
          },
          "metadata": {},
          "execution_count": 83
        }
      ]
    },
    {
      "cell_type": "markdown",
      "source": [
        "# Resultado da Regressão Logística\n",
        "\n"
      ],
      "metadata": {
        "id": "cGXQd3sgFuVf"
      }
    },
    {
      "cell_type": "markdown",
      "source": [
        " - C=1 - Acuracia 78.99%\n",
        " - C=2 - Acuracia 86.55%\n",
        " - C=3 - Acuracia 90.76%\n",
        " - C=4 - Acuracia 92.44%\n",
        " - C=5 - Acuracia 94.12%\n",
        " - C=6 - Acuracia 94.42%\n",
        " - C=7 - Acuracia 94.96%\n",
        " - C=8 - Acuracia 95.80%\n",
        " - C=9 - Acuracia 97.48%\n",
        " - C=10 - Acuracia 97.48%\n",
        " - C=11 - Acuracia 97.48%\n",
        " - C=12 - Acuracia 97.48%\n",
        "\n",
        "Configuração: \n",
        "\n",
        "  LogisticRegression(random_state=1, max_iter=500, penalty=\"l2\",tol=0.0001, C=*,solver=\"lbfgs\")\n",
        "\n",
        "  "
      ],
      "metadata": {
        "id": "D8Jm3FipKnPe"
      }
    },
    {
      "cell_type": "markdown",
      "source": [
        "# Conclusão da Regressão Logística:\n",
        "\n",
        "  - Se trata de uma Regressão multinomial (variável dependente com mais de duas categorias).\n",
        "\n",
        "  - Provável que a penalidade \"l2\" adicionada e ser a escolha padrão possa ter alterada a acurácia final;\n",
        "\n",
        "  - Com o C =< 9, a acurácia foi 97,48%"
      ],
      "metadata": {
        "id": "w4tgwAEPM1ZF"
      }
    },
    {
      "cell_type": "markdown",
      "source": [
        "# Conclusão Final entre os 3 modelos de Máquinas Supervisionadas:\n",
        "\n",
        " - Árvore de Decisão com max depth = 2 - (83,19%)\n",
        " - Random Forest com max depth = 7  - (96,64%)\n",
        " - Regressão Logística com C = 9 - (97,48%)\n",
        "\n",
        " Resultado:\n",
        "   - Regressão Logística teve a maior acurácia entre todos os modelos de máquina supervisionada\n",
        "   - Pelo valor de coeficiente de regressão ser a mudança nas variáveis contínuas e ser um número maior de coeficiente dentre os outros modelos\n",
        "   - Se conclui que a regressão logística é o modelo mais detalhado, pelo menos para este dataset de múltiplas classes e com o maior número de coeficientes, terá uma precisão maior de acurácia."
      ],
      "metadata": {
        "id": "HbiL0E0lPW41"
      }
    }
  ]
}